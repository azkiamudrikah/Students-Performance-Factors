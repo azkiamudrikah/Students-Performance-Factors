{
 "cells": [
  {
   "cell_type": "markdown",
   "metadata": {},
   "source": [
    "Azkia Mudrikah"
   ]
  },
  {
   "cell_type": "markdown",
   "metadata": {},
   "source": [
    "This analysis was conducted to identify factors that can enhance student achievement, specifically by examining students' exam results with a focus on factors originating from within the students themselves."
   ]
  },
  {
   "cell_type": "markdown",
   "metadata": {},
   "source": [
    "# Problem Statement"
   ]
  },
  {
   "cell_type": "markdown",
   "metadata": {},
   "source": [
    "SMART framework:\n",
    "\n",
    "1. **Specific**: Optimizing factors that influence the improvement of students' exam results.  \n",
    "2. **Measurable**: Increasing the scores of students who have not yet reached the minimum passing grade (75 out of 100).  \n",
    "3. **Achievable**: Focusing on internal factors such as increasing study hours, attending additional tutoring sessions, and optimizing school attendance.  \n",
    "4. **Relevant**: Emphasizing student self-improvement ensures optimal results, as students will be able to perform well regardless of their external environment, leading to improved exam outcomes.  \n",
    "5. **Time-Bound**: Results can be observed within 3 months (during the Mid-Semester Exam).  "
   ]
  },
  {
   "cell_type": "markdown",
   "metadata": {},
   "source": [
    "# Breaking down the problem"
   ]
  },
  {
   "cell_type": "markdown",
   "metadata": {},
   "source": [
    "## Main problem: Improving Students' Exam Scores."
   ]
  },
  {
   "cell_type": "markdown",
   "metadata": {},
   "source": [
    "1. What type of students should we pay more attention to regarding their exam results?  \n",
    "2. Does the frequency of student study sessions affect their exam scores?  \n",
    "3. How much independent study time is needed for students to reach the minimum passing grade?  \n",
    "4. Can adding tutoring sessions and optimizing class attendance impact students' exam scores?  \n",
    "5. How does student motivation influence their exam performance?  \n",
    "6. Does the social circle of students affect their academic achievement?  \n",
    "7. Does parental involvement in students' education impact their academic performance?  \n",
    "8. Does teacher competence influence students' academic success?  "
   ]
  },
  {
   "cell_type": "markdown",
   "metadata": {},
   "source": [
    "sumber dataset: https://www.kaggle.com/datasets/lainguyn123/student-performance-factors?select=StudentPerformanceFactors.csv"
   ]
  },
  {
   "cell_type": "markdown",
   "metadata": {},
   "source": [
    "# Libraries"
   ]
  },
  {
   "cell_type": "code",
   "execution_count": 1,
   "metadata": {},
   "outputs": [],
   "source": [
    "import pandas as pd\n",
    "import matplotlib.pyplot as plt\n",
    "import numpy as np\n",
    "\n",
    "from scipy.stats import kstest\n",
    "from scipy.stats import spearmanr\n",
    "from scipy import stats\n"
   ]
  },
  {
   "cell_type": "code",
   "execution_count": 2,
   "metadata": {},
   "outputs": [
    {
     "data": {
      "text/html": [
       "<div>\n",
       "<style scoped>\n",
       "    .dataframe tbody tr th:only-of-type {\n",
       "        vertical-align: middle;\n",
       "    }\n",
       "\n",
       "    .dataframe tbody tr th {\n",
       "        vertical-align: top;\n",
       "    }\n",
       "\n",
       "    .dataframe thead th {\n",
       "        text-align: right;\n",
       "    }\n",
       "</style>\n",
       "<table border=\"1\" class=\"dataframe\">\n",
       "  <thead>\n",
       "    <tr style=\"text-align: right;\">\n",
       "      <th></th>\n",
       "      <th>Hours_Studied(per week)</th>\n",
       "      <th>Attendance</th>\n",
       "      <th>Parental_Involvement</th>\n",
       "      <th>Access_to_Resources</th>\n",
       "      <th>Extracurricular_Activities</th>\n",
       "      <th>Sleep_Hours</th>\n",
       "      <th>Previous_Scores</th>\n",
       "      <th>Motivation_Level</th>\n",
       "      <th>Internet_Access</th>\n",
       "      <th>Tutoring_Sessions (per month)</th>\n",
       "      <th>Family_Income</th>\n",
       "      <th>Teacher_Quality</th>\n",
       "      <th>School_Type</th>\n",
       "      <th>Peer_Influence</th>\n",
       "      <th>Physical_Activity (hours per week)</th>\n",
       "      <th>Learning_Disabilities</th>\n",
       "      <th>Parental_Education_Level</th>\n",
       "      <th>Distance_from_Home</th>\n",
       "      <th>Gender</th>\n",
       "      <th>Exam_Score</th>\n",
       "    </tr>\n",
       "  </thead>\n",
       "  <tbody>\n",
       "    <tr>\n",
       "      <th>0</th>\n",
       "      <td>23</td>\n",
       "      <td>84</td>\n",
       "      <td>Low</td>\n",
       "      <td>High</td>\n",
       "      <td>No</td>\n",
       "      <td>7</td>\n",
       "      <td>73</td>\n",
       "      <td>Low</td>\n",
       "      <td>Yes</td>\n",
       "      <td>0</td>\n",
       "      <td>Low</td>\n",
       "      <td>Medium</td>\n",
       "      <td>Public</td>\n",
       "      <td>Positive</td>\n",
       "      <td>3</td>\n",
       "      <td>No</td>\n",
       "      <td>High School</td>\n",
       "      <td>Near</td>\n",
       "      <td>Male</td>\n",
       "      <td>67</td>\n",
       "    </tr>\n",
       "    <tr>\n",
       "      <th>1</th>\n",
       "      <td>19</td>\n",
       "      <td>64</td>\n",
       "      <td>Low</td>\n",
       "      <td>Medium</td>\n",
       "      <td>No</td>\n",
       "      <td>8</td>\n",
       "      <td>59</td>\n",
       "      <td>Low</td>\n",
       "      <td>Yes</td>\n",
       "      <td>2</td>\n",
       "      <td>Medium</td>\n",
       "      <td>Medium</td>\n",
       "      <td>Public</td>\n",
       "      <td>Negative</td>\n",
       "      <td>4</td>\n",
       "      <td>No</td>\n",
       "      <td>College</td>\n",
       "      <td>Moderate</td>\n",
       "      <td>Female</td>\n",
       "      <td>61</td>\n",
       "    </tr>\n",
       "    <tr>\n",
       "      <th>2</th>\n",
       "      <td>24</td>\n",
       "      <td>98</td>\n",
       "      <td>Medium</td>\n",
       "      <td>Medium</td>\n",
       "      <td>Yes</td>\n",
       "      <td>7</td>\n",
       "      <td>91</td>\n",
       "      <td>Medium</td>\n",
       "      <td>Yes</td>\n",
       "      <td>2</td>\n",
       "      <td>Medium</td>\n",
       "      <td>Medium</td>\n",
       "      <td>Public</td>\n",
       "      <td>Neutral</td>\n",
       "      <td>4</td>\n",
       "      <td>No</td>\n",
       "      <td>Postgraduate</td>\n",
       "      <td>Near</td>\n",
       "      <td>Male</td>\n",
       "      <td>74</td>\n",
       "    </tr>\n",
       "    <tr>\n",
       "      <th>3</th>\n",
       "      <td>29</td>\n",
       "      <td>89</td>\n",
       "      <td>Low</td>\n",
       "      <td>Medium</td>\n",
       "      <td>Yes</td>\n",
       "      <td>8</td>\n",
       "      <td>98</td>\n",
       "      <td>Medium</td>\n",
       "      <td>Yes</td>\n",
       "      <td>1</td>\n",
       "      <td>Medium</td>\n",
       "      <td>Medium</td>\n",
       "      <td>Public</td>\n",
       "      <td>Negative</td>\n",
       "      <td>4</td>\n",
       "      <td>No</td>\n",
       "      <td>High School</td>\n",
       "      <td>Moderate</td>\n",
       "      <td>Male</td>\n",
       "      <td>71</td>\n",
       "    </tr>\n",
       "    <tr>\n",
       "      <th>4</th>\n",
       "      <td>19</td>\n",
       "      <td>92</td>\n",
       "      <td>Medium</td>\n",
       "      <td>Medium</td>\n",
       "      <td>Yes</td>\n",
       "      <td>6</td>\n",
       "      <td>65</td>\n",
       "      <td>Medium</td>\n",
       "      <td>Yes</td>\n",
       "      <td>3</td>\n",
       "      <td>Medium</td>\n",
       "      <td>High</td>\n",
       "      <td>Public</td>\n",
       "      <td>Neutral</td>\n",
       "      <td>4</td>\n",
       "      <td>No</td>\n",
       "      <td>College</td>\n",
       "      <td>Near</td>\n",
       "      <td>Female</td>\n",
       "      <td>70</td>\n",
       "    </tr>\n",
       "    <tr>\n",
       "      <th>...</th>\n",
       "      <td>...</td>\n",
       "      <td>...</td>\n",
       "      <td>...</td>\n",
       "      <td>...</td>\n",
       "      <td>...</td>\n",
       "      <td>...</td>\n",
       "      <td>...</td>\n",
       "      <td>...</td>\n",
       "      <td>...</td>\n",
       "      <td>...</td>\n",
       "      <td>...</td>\n",
       "      <td>...</td>\n",
       "      <td>...</td>\n",
       "      <td>...</td>\n",
       "      <td>...</td>\n",
       "      <td>...</td>\n",
       "      <td>...</td>\n",
       "      <td>...</td>\n",
       "      <td>...</td>\n",
       "      <td>...</td>\n",
       "    </tr>\n",
       "    <tr>\n",
       "      <th>6602</th>\n",
       "      <td>25</td>\n",
       "      <td>69</td>\n",
       "      <td>High</td>\n",
       "      <td>Medium</td>\n",
       "      <td>No</td>\n",
       "      <td>7</td>\n",
       "      <td>76</td>\n",
       "      <td>Medium</td>\n",
       "      <td>Yes</td>\n",
       "      <td>1</td>\n",
       "      <td>High</td>\n",
       "      <td>Medium</td>\n",
       "      <td>Public</td>\n",
       "      <td>Positive</td>\n",
       "      <td>2</td>\n",
       "      <td>No</td>\n",
       "      <td>High School</td>\n",
       "      <td>Near</td>\n",
       "      <td>Female</td>\n",
       "      <td>68</td>\n",
       "    </tr>\n",
       "    <tr>\n",
       "      <th>6603</th>\n",
       "      <td>23</td>\n",
       "      <td>76</td>\n",
       "      <td>High</td>\n",
       "      <td>Medium</td>\n",
       "      <td>No</td>\n",
       "      <td>8</td>\n",
       "      <td>81</td>\n",
       "      <td>Medium</td>\n",
       "      <td>Yes</td>\n",
       "      <td>3</td>\n",
       "      <td>Low</td>\n",
       "      <td>High</td>\n",
       "      <td>Public</td>\n",
       "      <td>Positive</td>\n",
       "      <td>2</td>\n",
       "      <td>No</td>\n",
       "      <td>High School</td>\n",
       "      <td>Near</td>\n",
       "      <td>Female</td>\n",
       "      <td>69</td>\n",
       "    </tr>\n",
       "    <tr>\n",
       "      <th>6604</th>\n",
       "      <td>20</td>\n",
       "      <td>90</td>\n",
       "      <td>Medium</td>\n",
       "      <td>Low</td>\n",
       "      <td>Yes</td>\n",
       "      <td>6</td>\n",
       "      <td>65</td>\n",
       "      <td>Low</td>\n",
       "      <td>Yes</td>\n",
       "      <td>3</td>\n",
       "      <td>Low</td>\n",
       "      <td>Medium</td>\n",
       "      <td>Public</td>\n",
       "      <td>Negative</td>\n",
       "      <td>2</td>\n",
       "      <td>No</td>\n",
       "      <td>Postgraduate</td>\n",
       "      <td>Near</td>\n",
       "      <td>Female</td>\n",
       "      <td>68</td>\n",
       "    </tr>\n",
       "    <tr>\n",
       "      <th>6605</th>\n",
       "      <td>10</td>\n",
       "      <td>86</td>\n",
       "      <td>High</td>\n",
       "      <td>High</td>\n",
       "      <td>Yes</td>\n",
       "      <td>6</td>\n",
       "      <td>91</td>\n",
       "      <td>High</td>\n",
       "      <td>Yes</td>\n",
       "      <td>2</td>\n",
       "      <td>Low</td>\n",
       "      <td>Medium</td>\n",
       "      <td>Private</td>\n",
       "      <td>Positive</td>\n",
       "      <td>3</td>\n",
       "      <td>No</td>\n",
       "      <td>High School</td>\n",
       "      <td>Far</td>\n",
       "      <td>Female</td>\n",
       "      <td>68</td>\n",
       "    </tr>\n",
       "    <tr>\n",
       "      <th>6606</th>\n",
       "      <td>15</td>\n",
       "      <td>67</td>\n",
       "      <td>Medium</td>\n",
       "      <td>Low</td>\n",
       "      <td>Yes</td>\n",
       "      <td>9</td>\n",
       "      <td>94</td>\n",
       "      <td>Medium</td>\n",
       "      <td>Yes</td>\n",
       "      <td>0</td>\n",
       "      <td>Medium</td>\n",
       "      <td>Medium</td>\n",
       "      <td>Public</td>\n",
       "      <td>Positive</td>\n",
       "      <td>4</td>\n",
       "      <td>No</td>\n",
       "      <td>Postgraduate</td>\n",
       "      <td>Near</td>\n",
       "      <td>Male</td>\n",
       "      <td>64</td>\n",
       "    </tr>\n",
       "  </tbody>\n",
       "</table>\n",
       "<p>6607 rows × 20 columns</p>\n",
       "</div>"
      ],
      "text/plain": [
       "      Hours_Studied(per week)  Attendance Parental_Involvement  \\\n",
       "0                          23          84                  Low   \n",
       "1                          19          64                  Low   \n",
       "2                          24          98               Medium   \n",
       "3                          29          89                  Low   \n",
       "4                          19          92               Medium   \n",
       "...                       ...         ...                  ...   \n",
       "6602                       25          69                 High   \n",
       "6603                       23          76                 High   \n",
       "6604                       20          90               Medium   \n",
       "6605                       10          86                 High   \n",
       "6606                       15          67               Medium   \n",
       "\n",
       "     Access_to_Resources Extracurricular_Activities  Sleep_Hours  \\\n",
       "0                   High                         No            7   \n",
       "1                 Medium                         No            8   \n",
       "2                 Medium                        Yes            7   \n",
       "3                 Medium                        Yes            8   \n",
       "4                 Medium                        Yes            6   \n",
       "...                  ...                        ...          ...   \n",
       "6602              Medium                         No            7   \n",
       "6603              Medium                         No            8   \n",
       "6604                 Low                        Yes            6   \n",
       "6605                High                        Yes            6   \n",
       "6606                 Low                        Yes            9   \n",
       "\n",
       "      Previous_Scores Motivation_Level Internet_Access  \\\n",
       "0                  73              Low             Yes   \n",
       "1                  59              Low             Yes   \n",
       "2                  91           Medium             Yes   \n",
       "3                  98           Medium             Yes   \n",
       "4                  65           Medium             Yes   \n",
       "...               ...              ...             ...   \n",
       "6602               76           Medium             Yes   \n",
       "6603               81           Medium             Yes   \n",
       "6604               65              Low             Yes   \n",
       "6605               91             High             Yes   \n",
       "6606               94           Medium             Yes   \n",
       "\n",
       "      Tutoring_Sessions (per month) Family_Income Teacher_Quality School_Type  \\\n",
       "0                                 0           Low          Medium      Public   \n",
       "1                                 2        Medium          Medium      Public   \n",
       "2                                 2        Medium          Medium      Public   \n",
       "3                                 1        Medium          Medium      Public   \n",
       "4                                 3        Medium            High      Public   \n",
       "...                             ...           ...             ...         ...   \n",
       "6602                              1          High          Medium      Public   \n",
       "6603                              3           Low            High      Public   \n",
       "6604                              3           Low          Medium      Public   \n",
       "6605                              2           Low          Medium     Private   \n",
       "6606                              0        Medium          Medium      Public   \n",
       "\n",
       "     Peer_Influence  Physical_Activity (hours per week) Learning_Disabilities  \\\n",
       "0          Positive                                   3                    No   \n",
       "1          Negative                                   4                    No   \n",
       "2           Neutral                                   4                    No   \n",
       "3          Negative                                   4                    No   \n",
       "4           Neutral                                   4                    No   \n",
       "...             ...                                 ...                   ...   \n",
       "6602       Positive                                   2                    No   \n",
       "6603       Positive                                   2                    No   \n",
       "6604       Negative                                   2                    No   \n",
       "6605       Positive                                   3                    No   \n",
       "6606       Positive                                   4                    No   \n",
       "\n",
       "     Parental_Education_Level Distance_from_Home  Gender  Exam_Score  \n",
       "0                 High School               Near    Male          67  \n",
       "1                     College           Moderate  Female          61  \n",
       "2                Postgraduate               Near    Male          74  \n",
       "3                 High School           Moderate    Male          71  \n",
       "4                     College               Near  Female          70  \n",
       "...                       ...                ...     ...         ...  \n",
       "6602              High School               Near  Female          68  \n",
       "6603              High School               Near  Female          69  \n",
       "6604             Postgraduate               Near  Female          68  \n",
       "6605              High School                Far  Female          68  \n",
       "6606             Postgraduate               Near    Male          64  \n",
       "\n",
       "[6607 rows x 20 columns]"
      ]
     },
     "execution_count": 2,
     "metadata": {},
     "output_type": "execute_result"
    }
   ],
   "source": [
    "df = pd.read_csv('StudentPerformanceFactors.csv')\n",
    "df"
   ]
  },
  {
   "cell_type": "markdown",
   "metadata": {},
   "source": [
    "# Data cleaning"
   ]
  },
  {
   "cell_type": "markdown",
   "metadata": {},
   "source": [
    "First, reviewing the dataset's information is essential. Identifying the column names along with their data types helps streamline the analysis process."
   ]
  },
  {
   "cell_type": "code",
   "execution_count": 3,
   "metadata": {},
   "outputs": [
    {
     "name": "stdout",
     "output_type": "stream",
     "text": [
      "<class 'pandas.core.frame.DataFrame'>\n",
      "RangeIndex: 6607 entries, 0 to 6606\n",
      "Data columns (total 20 columns):\n",
      " #   Column                              Non-Null Count  Dtype \n",
      "---  ------                              --------------  ----- \n",
      " 0   Hours_Studied(per week)             6607 non-null   int64 \n",
      " 1   Attendance                          6607 non-null   int64 \n",
      " 2   Parental_Involvement                6607 non-null   object\n",
      " 3   Access_to_Resources                 6607 non-null   object\n",
      " 4   Extracurricular_Activities          6607 non-null   object\n",
      " 5   Sleep_Hours                         6607 non-null   int64 \n",
      " 6   Previous_Scores                     6607 non-null   int64 \n",
      " 7   Motivation_Level                    6607 non-null   object\n",
      " 8   Internet_Access                     6607 non-null   object\n",
      " 9   Tutoring_Sessions (per month)       6607 non-null   int64 \n",
      " 10  Family_Income                       6607 non-null   object\n",
      " 11  Teacher_Quality                     6529 non-null   object\n",
      " 12  School_Type                         6607 non-null   object\n",
      " 13  Peer_Influence                      6607 non-null   object\n",
      " 14  Physical_Activity (hours per week)  6607 non-null   int64 \n",
      " 15  Learning_Disabilities               6607 non-null   object\n",
      " 16  Parental_Education_Level            6517 non-null   object\n",
      " 17  Distance_from_Home                  6540 non-null   object\n",
      " 18  Gender                              6607 non-null   object\n",
      " 19  Exam_Score                          6607 non-null   int64 \n",
      "dtypes: int64(7), object(13)\n",
      "memory usage: 1.0+ MB\n"
     ]
    }
   ],
   "source": [
    "df.info()"
   ]
  },
  {
   "cell_type": "markdown",
   "metadata": {},
   "source": [
    "The code below is used to check whether the column names are consistent or not."
   ]
  },
  {
   "cell_type": "code",
   "execution_count": 4,
   "metadata": {},
   "outputs": [
    {
     "data": {
      "text/plain": [
       "Index(['Hours_Studied(per week)', 'Attendance', 'Parental_Involvement',\n",
       "       'Access_to_Resources', 'Extracurricular_Activities', 'Sleep_Hours',\n",
       "       'Previous_Scores', 'Motivation_Level', 'Internet_Access',\n",
       "       'Tutoring_Sessions (per month)', 'Family_Income', 'Teacher_Quality',\n",
       "       'School_Type', 'Peer_Influence', 'Physical_Activity (hours per week)',\n",
       "       'Learning_Disabilities', 'Parental_Education_Level',\n",
       "       'Distance_from_Home', 'Gender', 'Exam_Score'],\n",
       "      dtype='object')"
      ]
     },
     "execution_count": 4,
     "metadata": {},
     "output_type": "execute_result"
    }
   ],
   "source": [
    "df.columns"
   ]
  },
  {
   "cell_type": "markdown",
   "metadata": {},
   "source": [
    "From the summary above, it is evident that all column names are consistent, requiring only minor adjustments. The dataset consists of 7 numeric columns, 13 object-type columns, 6607 rows, and 3 columns containing missing values. Before proceeding with the analysis, data cleaning is carried out first. As an initial step, column names are modified by replacing white spaces with underscores to simplify the analysis process."
   ]
  },
  {
   "cell_type": "code",
   "execution_count": 5,
   "metadata": {},
   "outputs": [
    {
     "data": {
      "text/html": [
       "<div>\n",
       "<style scoped>\n",
       "    .dataframe tbody tr th:only-of-type {\n",
       "        vertical-align: middle;\n",
       "    }\n",
       "\n",
       "    .dataframe tbody tr th {\n",
       "        vertical-align: top;\n",
       "    }\n",
       "\n",
       "    .dataframe thead th {\n",
       "        text-align: right;\n",
       "    }\n",
       "</style>\n",
       "<table border=\"1\" class=\"dataframe\">\n",
       "  <thead>\n",
       "    <tr style=\"text-align: right;\">\n",
       "      <th></th>\n",
       "      <th>hours_studied(per_week)</th>\n",
       "      <th>Attendance</th>\n",
       "      <th>Parental_Involvement</th>\n",
       "      <th>Access_to_Resources</th>\n",
       "      <th>Extracurricular_Activities</th>\n",
       "      <th>Sleep_Hours</th>\n",
       "      <th>Previous_Scores</th>\n",
       "      <th>Motivation_Level</th>\n",
       "      <th>Internet_Access</th>\n",
       "      <th>Tutoring_Sessions(per_month)</th>\n",
       "      <th>Family_Income</th>\n",
       "      <th>Teacher_Quality</th>\n",
       "      <th>School_Type</th>\n",
       "      <th>Peer_Influence</th>\n",
       "      <th>Physical_Activity(hours_per_week)</th>\n",
       "      <th>Learning_Disabilities</th>\n",
       "      <th>Parental_Education_Level</th>\n",
       "      <th>Distance_from_Home</th>\n",
       "      <th>Gender</th>\n",
       "      <th>Exam_Score</th>\n",
       "    </tr>\n",
       "  </thead>\n",
       "  <tbody>\n",
       "    <tr>\n",
       "      <th>0</th>\n",
       "      <td>23</td>\n",
       "      <td>84</td>\n",
       "      <td>Low</td>\n",
       "      <td>High</td>\n",
       "      <td>No</td>\n",
       "      <td>7</td>\n",
       "      <td>73</td>\n",
       "      <td>Low</td>\n",
       "      <td>Yes</td>\n",
       "      <td>0</td>\n",
       "      <td>Low</td>\n",
       "      <td>Medium</td>\n",
       "      <td>Public</td>\n",
       "      <td>Positive</td>\n",
       "      <td>3</td>\n",
       "      <td>No</td>\n",
       "      <td>High School</td>\n",
       "      <td>Near</td>\n",
       "      <td>Male</td>\n",
       "      <td>67</td>\n",
       "    </tr>\n",
       "    <tr>\n",
       "      <th>1</th>\n",
       "      <td>19</td>\n",
       "      <td>64</td>\n",
       "      <td>Low</td>\n",
       "      <td>Medium</td>\n",
       "      <td>No</td>\n",
       "      <td>8</td>\n",
       "      <td>59</td>\n",
       "      <td>Low</td>\n",
       "      <td>Yes</td>\n",
       "      <td>2</td>\n",
       "      <td>Medium</td>\n",
       "      <td>Medium</td>\n",
       "      <td>Public</td>\n",
       "      <td>Negative</td>\n",
       "      <td>4</td>\n",
       "      <td>No</td>\n",
       "      <td>College</td>\n",
       "      <td>Moderate</td>\n",
       "      <td>Female</td>\n",
       "      <td>61</td>\n",
       "    </tr>\n",
       "    <tr>\n",
       "      <th>2</th>\n",
       "      <td>24</td>\n",
       "      <td>98</td>\n",
       "      <td>Medium</td>\n",
       "      <td>Medium</td>\n",
       "      <td>Yes</td>\n",
       "      <td>7</td>\n",
       "      <td>91</td>\n",
       "      <td>Medium</td>\n",
       "      <td>Yes</td>\n",
       "      <td>2</td>\n",
       "      <td>Medium</td>\n",
       "      <td>Medium</td>\n",
       "      <td>Public</td>\n",
       "      <td>Neutral</td>\n",
       "      <td>4</td>\n",
       "      <td>No</td>\n",
       "      <td>Postgraduate</td>\n",
       "      <td>Near</td>\n",
       "      <td>Male</td>\n",
       "      <td>74</td>\n",
       "    </tr>\n",
       "    <tr>\n",
       "      <th>3</th>\n",
       "      <td>29</td>\n",
       "      <td>89</td>\n",
       "      <td>Low</td>\n",
       "      <td>Medium</td>\n",
       "      <td>Yes</td>\n",
       "      <td>8</td>\n",
       "      <td>98</td>\n",
       "      <td>Medium</td>\n",
       "      <td>Yes</td>\n",
       "      <td>1</td>\n",
       "      <td>Medium</td>\n",
       "      <td>Medium</td>\n",
       "      <td>Public</td>\n",
       "      <td>Negative</td>\n",
       "      <td>4</td>\n",
       "      <td>No</td>\n",
       "      <td>High School</td>\n",
       "      <td>Moderate</td>\n",
       "      <td>Male</td>\n",
       "      <td>71</td>\n",
       "    </tr>\n",
       "    <tr>\n",
       "      <th>4</th>\n",
       "      <td>19</td>\n",
       "      <td>92</td>\n",
       "      <td>Medium</td>\n",
       "      <td>Medium</td>\n",
       "      <td>Yes</td>\n",
       "      <td>6</td>\n",
       "      <td>65</td>\n",
       "      <td>Medium</td>\n",
       "      <td>Yes</td>\n",
       "      <td>3</td>\n",
       "      <td>Medium</td>\n",
       "      <td>High</td>\n",
       "      <td>Public</td>\n",
       "      <td>Neutral</td>\n",
       "      <td>4</td>\n",
       "      <td>No</td>\n",
       "      <td>College</td>\n",
       "      <td>Near</td>\n",
       "      <td>Female</td>\n",
       "      <td>70</td>\n",
       "    </tr>\n",
       "  </tbody>\n",
       "</table>\n",
       "</div>"
      ],
      "text/plain": [
       "   hours_studied(per_week)  Attendance Parental_Involvement  \\\n",
       "0                       23          84                  Low   \n",
       "1                       19          64                  Low   \n",
       "2                       24          98               Medium   \n",
       "3                       29          89                  Low   \n",
       "4                       19          92               Medium   \n",
       "\n",
       "  Access_to_Resources Extracurricular_Activities  Sleep_Hours  \\\n",
       "0                High                         No            7   \n",
       "1              Medium                         No            8   \n",
       "2              Medium                        Yes            7   \n",
       "3              Medium                        Yes            8   \n",
       "4              Medium                        Yes            6   \n",
       "\n",
       "   Previous_Scores Motivation_Level Internet_Access  \\\n",
       "0               73              Low             Yes   \n",
       "1               59              Low             Yes   \n",
       "2               91           Medium             Yes   \n",
       "3               98           Medium             Yes   \n",
       "4               65           Medium             Yes   \n",
       "\n",
       "   Tutoring_Sessions(per_month) Family_Income Teacher_Quality School_Type  \\\n",
       "0                             0           Low          Medium      Public   \n",
       "1                             2        Medium          Medium      Public   \n",
       "2                             2        Medium          Medium      Public   \n",
       "3                             1        Medium          Medium      Public   \n",
       "4                             3        Medium            High      Public   \n",
       "\n",
       "  Peer_Influence  Physical_Activity(hours_per_week) Learning_Disabilities  \\\n",
       "0       Positive                                  3                    No   \n",
       "1       Negative                                  4                    No   \n",
       "2        Neutral                                  4                    No   \n",
       "3       Negative                                  4                    No   \n",
       "4        Neutral                                  4                    No   \n",
       "\n",
       "  Parental_Education_Level Distance_from_Home  Gender  Exam_Score  \n",
       "0              High School               Near    Male          67  \n",
       "1                  College           Moderate  Female          61  \n",
       "2             Postgraduate               Near    Male          74  \n",
       "3              High School           Moderate    Male          71  \n",
       "4                  College               Near  Female          70  "
      ]
     },
     "execution_count": 5,
     "metadata": {},
     "output_type": "execute_result"
    }
   ],
   "source": [
    "df.rename(columns={'Hours_Studied(per week)':'hours_studied(per_week)', 'Tutoring_Sessions (per month)':'Tutoring_Sessions(per_month)','Physical_Activity (hours per week)':'Physical_Activity(hours_per_week)'}, inplace=True)\n",
    "df.head(5)"
   ]
  },
  {
   "cell_type": "markdown",
   "metadata": {},
   "source": [
    "After modifying all column names, the next step is handling missing values by removing rows containing missing data and deleting duplicate rows. Once all missing values and duplicates have been addressed, review the overall dataset information again to ensure it is clean."
   ]
  },
  {
   "cell_type": "code",
   "execution_count": 6,
   "metadata": {},
   "outputs": [
    {
     "name": "stdout",
     "output_type": "stream",
     "text": [
      "<class 'pandas.core.frame.DataFrame'>\n",
      "Index: 6378 entries, 0 to 6606\n",
      "Data columns (total 20 columns):\n",
      " #   Column                             Non-Null Count  Dtype \n",
      "---  ------                             --------------  ----- \n",
      " 0   hours_studied(per_week)            6378 non-null   int64 \n",
      " 1   Attendance                         6378 non-null   int64 \n",
      " 2   Parental_Involvement               6378 non-null   object\n",
      " 3   Access_to_Resources                6378 non-null   object\n",
      " 4   Extracurricular_Activities         6378 non-null   object\n",
      " 5   Sleep_Hours                        6378 non-null   int64 \n",
      " 6   Previous_Scores                    6378 non-null   int64 \n",
      " 7   Motivation_Level                   6378 non-null   object\n",
      " 8   Internet_Access                    6378 non-null   object\n",
      " 9   Tutoring_Sessions(per_month)       6378 non-null   int64 \n",
      " 10  Family_Income                      6378 non-null   object\n",
      " 11  Teacher_Quality                    6378 non-null   object\n",
      " 12  School_Type                        6378 non-null   object\n",
      " 13  Peer_Influence                     6378 non-null   object\n",
      " 14  Physical_Activity(hours_per_week)  6378 non-null   int64 \n",
      " 15  Learning_Disabilities              6378 non-null   object\n",
      " 16  Parental_Education_Level           6378 non-null   object\n",
      " 17  Distance_from_Home                 6378 non-null   object\n",
      " 18  Gender                             6378 non-null   object\n",
      " 19  Exam_Score                         6378 non-null   int64 \n",
      "dtypes: int64(7), object(13)\n",
      "memory usage: 1.0+ MB\n"
     ]
    }
   ],
   "source": [
    "#deleting missing value\n",
    "df.dropna(inplace=True)\n",
    "#deleting duplicated rows\n",
    "df.drop_duplicates(inplace=True)\n",
    "df.info()"
   ]
  },
  {
   "cell_type": "markdown",
   "metadata": {},
   "source": [
    "The data cleaning process resulted in 6378 rows with no columns containing missing values. This analysis focuses on factors originating from within the students themselves. Based on the available columns, the relevant factors related to the students’ internal attributes are:  \n",
    "\n",
    "1. Study duration in a week (in hours)  \n",
    "2. Percentage of class attendance  \n",
    "3. Student motivation  \n",
    "4. Attendance in additional learning sessions  \n",
    "\n",
    "However, there are external factors that also need to be considered, including:  \n",
    "\n",
    "1. Parental involvement in the child's education  \n",
    "2. Teacher quality  \n",
    "3. Peer influence on academic performance  \n",
    "\n",
    "These additional factors are significant because they have substantial impacts on students. Parents play a role as educators at home, teachers as guides at school, and peers often influence students' behavior and attitudes.  \n",
    "\n",
    "After identifying the relevant columns, we can remove other columns that are not needed for this analysis."
   ]
  },
  {
   "cell_type": "code",
   "execution_count": 7,
   "metadata": {},
   "outputs": [],
   "source": [
    "df = df.drop(columns=['Learning_Disabilities','Previous_Scores','Sleep_Hours','Access_to_Resources', 'Extracurricular_Activities', 'Internet_Access','Family_Income','School_Type', 'Physical_Activity(hours_per_week)','Parental_Education_Level','Distance_from_Home', 'Gender'])"
   ]
  },
  {
   "cell_type": "markdown",
   "metadata": {},
   "source": [
    "After gathering the necessary data, the next step is to begin the analysis. This can involve several key activities, such as:\n",
    "\n",
    "1. **Descriptive Analysis**: To understand the distribution and central tendencies of the data, using summary statistics (mean, median, mode, etc.) and visualizations (histograms, box plots, etc.).\n",
    "\n",
    "2. **Correlation Analysis**: Identifying relationships between internal factors (e.g., study time, attendance, motivation) and exam performance.\n",
    "\n",
    "3. **Exploratory Data Analysis (EDA)**: Investigating patterns, outliers, and trends in the data to guide further modeling or hypothesis testing.\n",
    "\n",
    "4. **Hypothesis Testing**: Testing if certain factors significantly influence students' academic performance."
   ]
  },
  {
   "cell_type": "markdown",
   "metadata": {},
   "source": [
    "# Exploratory Data Analysis"
   ]
  },
  {
   "cell_type": "markdown",
   "metadata": {},
   "source": [
    "### What type of students should we pay more attention to regarding their exam results?\n",
    "\n",
    "This analysis focuses on students whose exam scores have not exceeded the minimum passing grade (less than or equal to 75), so students with scores below 76 are the main focus of this study. Create a new dataframe with exam scores <76."
   ]
  },
  {
   "cell_type": "code",
   "execution_count": 8,
   "metadata": {},
   "outputs": [
    {
     "data": {
      "text/html": [
       "<div>\n",
       "<style scoped>\n",
       "    .dataframe tbody tr th:only-of-type {\n",
       "        vertical-align: middle;\n",
       "    }\n",
       "\n",
       "    .dataframe tbody tr th {\n",
       "        vertical-align: top;\n",
       "    }\n",
       "\n",
       "    .dataframe thead th {\n",
       "        text-align: right;\n",
       "    }\n",
       "</style>\n",
       "<table border=\"1\" class=\"dataframe\">\n",
       "  <thead>\n",
       "    <tr style=\"text-align: right;\">\n",
       "      <th></th>\n",
       "      <th>hours_studied(per_week)</th>\n",
       "      <th>Attendance</th>\n",
       "      <th>Parental_Involvement</th>\n",
       "      <th>Motivation_Level</th>\n",
       "      <th>Tutoring_Sessions(per_month)</th>\n",
       "      <th>Teacher_Quality</th>\n",
       "      <th>Peer_Influence</th>\n",
       "      <th>Exam_Score</th>\n",
       "    </tr>\n",
       "  </thead>\n",
       "  <tbody>\n",
       "    <tr>\n",
       "      <th>0</th>\n",
       "      <td>23</td>\n",
       "      <td>84</td>\n",
       "      <td>Low</td>\n",
       "      <td>Low</td>\n",
       "      <td>0</td>\n",
       "      <td>Medium</td>\n",
       "      <td>Positive</td>\n",
       "      <td>67</td>\n",
       "    </tr>\n",
       "    <tr>\n",
       "      <th>1</th>\n",
       "      <td>19</td>\n",
       "      <td>64</td>\n",
       "      <td>Low</td>\n",
       "      <td>Low</td>\n",
       "      <td>2</td>\n",
       "      <td>Medium</td>\n",
       "      <td>Negative</td>\n",
       "      <td>61</td>\n",
       "    </tr>\n",
       "    <tr>\n",
       "      <th>2</th>\n",
       "      <td>24</td>\n",
       "      <td>98</td>\n",
       "      <td>Medium</td>\n",
       "      <td>Medium</td>\n",
       "      <td>2</td>\n",
       "      <td>Medium</td>\n",
       "      <td>Neutral</td>\n",
       "      <td>74</td>\n",
       "    </tr>\n",
       "    <tr>\n",
       "      <th>3</th>\n",
       "      <td>29</td>\n",
       "      <td>89</td>\n",
       "      <td>Low</td>\n",
       "      <td>Medium</td>\n",
       "      <td>1</td>\n",
       "      <td>Medium</td>\n",
       "      <td>Negative</td>\n",
       "      <td>71</td>\n",
       "    </tr>\n",
       "    <tr>\n",
       "      <th>4</th>\n",
       "      <td>19</td>\n",
       "      <td>92</td>\n",
       "      <td>Medium</td>\n",
       "      <td>Medium</td>\n",
       "      <td>3</td>\n",
       "      <td>High</td>\n",
       "      <td>Neutral</td>\n",
       "      <td>70</td>\n",
       "    </tr>\n",
       "    <tr>\n",
       "      <th>...</th>\n",
       "      <td>...</td>\n",
       "      <td>...</td>\n",
       "      <td>...</td>\n",
       "      <td>...</td>\n",
       "      <td>...</td>\n",
       "      <td>...</td>\n",
       "      <td>...</td>\n",
       "      <td>...</td>\n",
       "    </tr>\n",
       "    <tr>\n",
       "      <th>6602</th>\n",
       "      <td>25</td>\n",
       "      <td>69</td>\n",
       "      <td>High</td>\n",
       "      <td>Medium</td>\n",
       "      <td>1</td>\n",
       "      <td>Medium</td>\n",
       "      <td>Positive</td>\n",
       "      <td>68</td>\n",
       "    </tr>\n",
       "    <tr>\n",
       "      <th>6603</th>\n",
       "      <td>23</td>\n",
       "      <td>76</td>\n",
       "      <td>High</td>\n",
       "      <td>Medium</td>\n",
       "      <td>3</td>\n",
       "      <td>High</td>\n",
       "      <td>Positive</td>\n",
       "      <td>69</td>\n",
       "    </tr>\n",
       "    <tr>\n",
       "      <th>6604</th>\n",
       "      <td>20</td>\n",
       "      <td>90</td>\n",
       "      <td>Medium</td>\n",
       "      <td>Low</td>\n",
       "      <td>3</td>\n",
       "      <td>Medium</td>\n",
       "      <td>Negative</td>\n",
       "      <td>68</td>\n",
       "    </tr>\n",
       "    <tr>\n",
       "      <th>6605</th>\n",
       "      <td>10</td>\n",
       "      <td>86</td>\n",
       "      <td>High</td>\n",
       "      <td>High</td>\n",
       "      <td>2</td>\n",
       "      <td>Medium</td>\n",
       "      <td>Positive</td>\n",
       "      <td>68</td>\n",
       "    </tr>\n",
       "    <tr>\n",
       "      <th>6606</th>\n",
       "      <td>15</td>\n",
       "      <td>67</td>\n",
       "      <td>Medium</td>\n",
       "      <td>Medium</td>\n",
       "      <td>0</td>\n",
       "      <td>Medium</td>\n",
       "      <td>Positive</td>\n",
       "      <td>64</td>\n",
       "    </tr>\n",
       "  </tbody>\n",
       "</table>\n",
       "<p>6302 rows × 8 columns</p>\n",
       "</div>"
      ],
      "text/plain": [
       "      hours_studied(per_week)  Attendance Parental_Involvement  \\\n",
       "0                          23          84                  Low   \n",
       "1                          19          64                  Low   \n",
       "2                          24          98               Medium   \n",
       "3                          29          89                  Low   \n",
       "4                          19          92               Medium   \n",
       "...                       ...         ...                  ...   \n",
       "6602                       25          69                 High   \n",
       "6603                       23          76                 High   \n",
       "6604                       20          90               Medium   \n",
       "6605                       10          86                 High   \n",
       "6606                       15          67               Medium   \n",
       "\n",
       "     Motivation_Level  Tutoring_Sessions(per_month) Teacher_Quality  \\\n",
       "0                 Low                             0          Medium   \n",
       "1                 Low                             2          Medium   \n",
       "2              Medium                             2          Medium   \n",
       "3              Medium                             1          Medium   \n",
       "4              Medium                             3            High   \n",
       "...               ...                           ...             ...   \n",
       "6602           Medium                             1          Medium   \n",
       "6603           Medium                             3            High   \n",
       "6604              Low                             3          Medium   \n",
       "6605             High                             2          Medium   \n",
       "6606           Medium                             0          Medium   \n",
       "\n",
       "     Peer_Influence  Exam_Score  \n",
       "0          Positive          67  \n",
       "1          Negative          61  \n",
       "2           Neutral          74  \n",
       "3          Negative          71  \n",
       "4           Neutral          70  \n",
       "...             ...         ...  \n",
       "6602       Positive          68  \n",
       "6603       Positive          69  \n",
       "6604       Negative          68  \n",
       "6605       Positive          68  \n",
       "6606       Positive          64  \n",
       "\n",
       "[6302 rows x 8 columns]"
      ]
     },
     "execution_count": 8,
     "metadata": {},
     "output_type": "execute_result"
    }
   ],
   "source": [
    "under_KKM = df.loc[df['Exam_Score'] < 76]\n",
    "under_KKM"
   ]
  },
  {
   "cell_type": "markdown",
   "metadata": {},
   "source": [
    "Once the dataframe contains only students with scores below the minimum passing grade (KKM), we can calculate the mean, median, and mode to assess the gap between the KKM and the average scores below the KKM."
   ]
  },
  {
   "cell_type": "code",
   "execution_count": 9,
   "metadata": {},
   "outputs": [
    {
     "name": "stdout",
     "output_type": "stream",
     "text": [
      "Mean 67\n",
      "Median 67.0\n",
      "Mode 68\n",
      "Percentage of students' scores below the minimum passing grade (KKM). 98.81%\n"
     ]
    }
   ],
   "source": [
    "mean = under_KKM['Exam_Score'].mean()\n",
    "median = under_KKM['Exam_Score'].median()\n",
    "modus = under_KKM['Exam_Score'].mode().values[0]\n",
    "\n",
    "print(f'Mean {mean:.0f}')\n",
    "print(f'Median {median}')\n",
    "print(f'Mode {modus}')\n",
    "print(f\"Percentage of students' scores below the minimum passing grade (KKM). {round((((len(under_KKM)/len(df)))*100), 2)}%\")"
   ]
  },
  {
   "cell_type": "markdown",
   "metadata": {},
   "source": [
    "The code below is used to ensure that the mode value obtained from the previous calculation is the only mode in the dataset."
   ]
  },
  {
   "cell_type": "code",
   "execution_count": 10,
   "metadata": {},
   "outputs": [
    {
     "data": {
      "text/plain": [
       "Exam_Score\n",
       "68    738\n",
       "66    722\n",
       "67    692\n",
       "65    650\n",
       "69    599\n",
       "70    526\n",
       "64    478\n",
       "71    398\n",
       "63    350\n",
       "72    298\n",
       "62    261\n",
       "61    166\n",
       "73    133\n",
       "74    102\n",
       "60     75\n",
       "75     48\n",
       "59     39\n",
       "58     21\n",
       "57      4\n",
       "55      1\n",
       "56      1\n",
       "Name: count, dtype: int64"
      ]
     },
     "execution_count": 10,
     "metadata": {},
     "output_type": "execute_result"
    }
   ],
   "source": [
    "under_KKM['Exam_Score'].value_counts()"
   ]
  },
  {
   "cell_type": "markdown",
   "metadata": {},
   "source": [
    "Here is a comparison of the number of students who have reached the minimum passing grade (KKM) and those whose scores are still below the KKM."
   ]
  },
  {
   "cell_type": "code",
   "execution_count": 27,
   "metadata": {},
   "outputs": [
    {
     "data": {
      "image/png": "[encoded data removed]",
      "text/plain": [
       "<Figure size 640x480 with 1 Axes>"
      ]
     },
     "metadata": {},
     "output_type": "display_data"
    }
   ],
   "source": [
    "labels = [\"Under KKM\", \"Upper KKM\"]\n",
    "sizes = [98.81, 1.19]\n",
    "colors = ['lightblue','green']\n",
    "\n",
    "plt.pie(sizes, labels=labels, colors=colors,\n",
    "        autopct='%1.1f%%', shadow=True, startangle=140)\n",
    "\n",
    "plt.axis('equal')\n",
    "plt.title('Comparison of Student Scores')\n",
    "plt.show()"
   ]
  },
  {
   "cell_type": "markdown",
   "metadata": {},
   "source": [
    "The comparison above provides a clear picture of how few students have managed to achieve scores above the minimum passing grade (KKM). However, this situation is not too concerning when considering the average score (mean) and median, which are 67 and 68, respectively. The average and median scores are only 8 points below 75, a relatively small gap. Moreover, the mode is 68, which has an even smaller gap with the KKM compared to the average and median scores.\n",
    "\n",
    "Based on the calculations of the mean, median, and mode, it can be concluded that students with scores below the KKM are not necessarily low-performing students. Rather, they just need a little more attention to surpass the KKM."
   ]
  },
  {
   "cell_type": "markdown",
   "metadata": {},
   "source": [
    "### Does the frequency of student study sessions affect their exam scores?"
   ]
  },
  {
   "cell_type": "markdown",
   "metadata": {},
   "source": [
    "Before conducting statistical analysis to address this issue, a normality test is performed first. Based on the mean, median, and mode values from the previous calculations, the data appears to follow a normal distribution. However, this assumption must be confirmed through a normality test, given that the large dataset size may lead to a wide distribution, potentially causing the data to be non-normal."
   ]
  },
  {
   "cell_type": "markdown",
   "metadata": {},
   "source": [
    "The normality test is performed using the Kolmogorov-Smirnov Test (K-S Test). This method is used because, according to several sources, the Kolmogorov-Smirnov Test (K-S Test) tends to be more sensitive to large datasets and provides more accurate results.\n",
    "\n",
    "The hypotheses for the normality test are as follows:\n",
    "\n",
    "H0 = p-value > 0.05, indicating that the data follows a normal distribution\n",
    "\n",
    "H1 = p-value < 0.05, indicating that the data does not follow a normal distribution"
   ]
  },
  {
   "cell_type": "code",
   "execution_count": 28,
   "metadata": {},
   "outputs": [
    {
     "name": "stdout",
     "output_type": "stream",
     "text": [
      "P-value Duration of Studying (K-S Test): 0.0\n",
      "P-value Exam Score (K-S Test): 0.0\n"
     ]
    }
   ],
   "source": [
    "stat_jb, p_jb = kstest(under_KKM['hours_studied(per_week)'], 'norm')\n",
    "stat_nu, p_nu = kstest(under_KKM['Exam_Score'], 'norm')\n",
    "\n",
    "print(f'P-value Duration of Studying (K-S Test): {p_jb}')\n",
    "print(f'P-value Exam Score (K-S Test): {p_nu}')\n"
   ]
  },
  {
   "cell_type": "markdown",
   "metadata": {},
   "source": [
    "The results of the normality test show a p-value < 0.05, indicating that the data does not follow a normal distribution. Therefore, the analysis of the impact of study hours on exam scores will proceed using the Spearman rank correlation method."
   ]
  },
  {
   "cell_type": "code",
   "execution_count": 13,
   "metadata": {},
   "outputs": [
    {
     "name": "stdout",
     "output_type": "stream",
     "text": [
      "Spearman correlation: 0.48, P-value: 0.0\n"
     ]
    }
   ],
   "source": [
    "corr, p_value = spearmanr(under_KKM['hours_studied(per_week)'], under_KKM['Exam_Score'])\n",
    "print(f'Spearman correlation: {(corr):.2f}, P-value: {p_value}')"
   ]
  },
  {
   "cell_type": "markdown",
   "metadata": {},
   "source": [
    "A correlation value of 0.48 indicates a positive correlation between exam scores and study duration. This means that as study duration increases, exam scores tend to increase as well. Meanwhile, a p-value < 0.05 shows that the relationship between study duration and exam scores is statistically significant."
   ]
  },
  {
   "cell_type": "markdown",
   "metadata": {},
   "source": [
    "### How much independent study time per week is needed for students to achieve the minimum passing grade (KKM)?"
   ]
  },
  {
   "cell_type": "markdown",
   "metadata": {},
   "source": [
    "After determining that the duration of independent study influences students' exam scores, we can estimate the appropriate study time required to improve exam scores using the available data.\n",
    "\n",
    "It is important to note that we aim to find the optimal range of study time that will enable students to achieve the minimum passing grade (KKM). Therefore, the reference study time will be based on the study hours of students whose exam scores have already exceeded the KKM."
   ]
  },
  {
   "cell_type": "markdown",
   "metadata": {},
   "source": [
    "First, partition the column of students whose exam scores exceed the minimum passing grade (KKM) from the entire dataframe."
   ]
  },
  {
   "cell_type": "code",
   "execution_count": 14,
   "metadata": {},
   "outputs": [],
   "source": [
    "upper_KKM = df.loc[df['Exam_Score'] > 75]"
   ]
  },
  {
   "cell_type": "markdown",
   "metadata": {},
   "source": [
    "Next, partition the columns for study duration and exam scores into a new dataframe."
   ]
  },
  {
   "cell_type": "code",
   "execution_count": 15,
   "metadata": {},
   "outputs": [],
   "source": [
    "BM2 = upper_KKM[['hours_studied(per_week)','Exam_Score']].groupby('Exam_Score').mean()"
   ]
  },
  {
   "cell_type": "markdown",
   "metadata": {},
   "source": [
    "After creating the dataframe containing the study hours and exam scores columns, the next step is to calculate the optimal study time required to improve exam scores. This range can be calculated by finding the confidence interval (in this case, a 95% confidence interval) using the following code:"
   ]
  },
  {
   "cell_type": "code",
   "execution_count": 16,
   "metadata": {},
   "outputs": [
    {
     "name": "stdout",
     "output_type": "stream",
     "text": [
      "Lower Limit: 19.47171844692568\n",
      "Upper Limit: 24.305712108629873\n"
     ]
    }
   ],
   "source": [
    "std = BM2['hours_studied(per_week)'].std()     \n",
    "N = len(BM2)                    \n",
    "low, up = stats.norm.interval(    \n",
    "    0.95,                         \n",
    "    loc=BM2['hours_studied(per_week)'].mean(), \n",
    "    scale=std/np.sqrt(N)          \n",
    "    )\n",
    "print('Lower Limit:',low)   \n",
    "print('Upper Limit:',up) "
   ]
  },
  {
   "cell_type": "markdown",
   "metadata": {},
   "source": [
    "Based on the calculations above, the optimal study time to exceed the minimum passing grade (KKM) is between 19 and 24 hours per week."
   ]
  },
  {
   "cell_type": "markdown",
   "metadata": {},
   "source": [
    "### Can adding tutoring sessions and optimizing class attendance impact students' exam scores?"
   ]
  },
  {
   "cell_type": "markdown",
   "metadata": {},
   "source": [
    "Similar to the previous analysis, the data in the columns *Tutoring_Sessions(per_month)* and *attendance* must also undergo a normality test. The hypotheses for the normality test are as follows:\n",
    "\n",
    "H0 = p-value > 0.05, indicating that the data follows a normal distribution\n",
    "\n",
    "H1 = p-value < 0.05, indicating that the data does not follow a normal distribution"
   ]
  },
  {
   "cell_type": "code",
   "execution_count": 17,
   "metadata": {},
   "outputs": [
    {
     "name": "stdout",
     "output_type": "stream",
     "text": [
      "P-value attendance (K-S Test): 0.0\n",
      "P-value sesi tutoring (K-S Test): 0.0\n"
     ]
    }
   ],
   "source": [
    "stat_att, p_att = kstest(under_KKM['Attendance'], 'norm')\n",
    "stat_ts, p_ts = kstest(under_KKM['Tutoring_Sessions(per_month)'], 'norm')\n",
    "\n",
    "print(f'P-value attendance (K-S Test): {p_ts}')\n",
    "print(f'P-value sesi tutoring (K-S Test): {p_ts}')"
   ]
  },
  {
   "cell_type": "markdown",
   "metadata": {},
   "source": [
    "A p-value < 0.05 indicates that both datasets do not follow a normal distribution. Since the data is non-normal, we will use the Spearman rank correlation to test the relationship."
   ]
  },
  {
   "cell_type": "code",
   "execution_count": 29,
   "metadata": {},
   "outputs": [
    {
     "name": "stdout",
     "output_type": "stream",
     "text": [
      "Spearman correlation class attendance: 0.68, P-value: 0.00\n",
      "Spearman correlation tutoring session: 0.16, P-value: 0.00\n"
     ]
    }
   ],
   "source": [
    "corr, p_value = spearmanr(under_KKM['Attendance'], under_KKM['Exam_Score'])\n",
    "corr2, p_value2 = spearmanr(under_KKM['Tutoring_Sessions(per_month)'], under_KKM['Exam_Score'])\n",
    "print(f'Spearman correlation class attendance: {(corr):.2f}, P-value: {p_value:.2f}')\n",
    "print(f'Spearman correlation tutoring session: {(corr2):.2f}, P-value: {p_value2:.2f}')"
   ]
  },
  {
   "cell_type": "markdown",
   "metadata": {},
   "source": [
    "The correlation values between attendance and tutoring sessions with exam scores are 0.68 and 0.16, respectively, indicating a positive correlation between both factors and exam scores. Meanwhile, a p-value < 0.05 shows that the relationship between attendance, tutoring sessions, and exam scores is statistically significant. It can be concluded that optimizing student attendance in class and adding tutoring sessions can improve students' exam scores."
   ]
  },
  {
   "cell_type": "markdown",
   "metadata": {},
   "source": [
    "### How does student motivation affect their exam scores?\n"
   ]
  },
  {
   "cell_type": "markdown",
   "metadata": {},
   "source": [
    "To determine the relationship between motivation and exam scores, the calculation is performed using the following method:"
   ]
  },
  {
   "cell_type": "code",
   "execution_count": 19,
   "metadata": {},
   "outputs": [
    {
     "data": {
      "text/html": [
       "<div>\n",
       "<style scoped>\n",
       "    .dataframe tbody tr th:only-of-type {\n",
       "        vertical-align: middle;\n",
       "    }\n",
       "\n",
       "    .dataframe tbody tr th {\n",
       "        vertical-align: top;\n",
       "    }\n",
       "\n",
       "    .dataframe thead th {\n",
       "        text-align: right;\n",
       "    }\n",
       "</style>\n",
       "<table border=\"1\" class=\"dataframe\">\n",
       "  <thead>\n",
       "    <tr style=\"text-align: right;\">\n",
       "      <th></th>\n",
       "      <th>Motivation_Level</th>\n",
       "      <th>Exam_Score</th>\n",
       "    </tr>\n",
       "  </thead>\n",
       "  <tbody>\n",
       "    <tr>\n",
       "      <th>0</th>\n",
       "      <td>High</td>\n",
       "      <td>67.491242</td>\n",
       "    </tr>\n",
       "    <tr>\n",
       "      <th>1</th>\n",
       "      <td>Low</td>\n",
       "      <td>66.572821</td>\n",
       "    </tr>\n",
       "    <tr>\n",
       "      <th>2</th>\n",
       "      <td>Medium</td>\n",
       "      <td>67.130666</td>\n",
       "    </tr>\n",
       "  </tbody>\n",
       "</table>\n",
       "</div>"
      ],
      "text/plain": [
       "  Motivation_Level  Exam_Score\n",
       "0             High   67.491242\n",
       "1              Low   66.572821\n",
       "2           Medium   67.130666"
      ]
     },
     "execution_count": 19,
     "metadata": {},
     "output_type": "execute_result"
    }
   ],
   "source": [
    "Motivation = under_KKM.groupby('Motivation_Level')[['Exam_Score']].mean().reset_index()\n",
    "Motivation"
   ]
  },
  {
   "cell_type": "markdown",
   "metadata": {},
   "source": [
    "The results above indicate that student motivation affects exam scores. Although the difference is small, motivation still has an impact on students' exam performance. To provide a clearer picture, the results of the analysis are presented in the following graph:\n"
   ]
  },
  {
   "cell_type": "code",
   "execution_count": 30,
   "metadata": {},
   "outputs": [
    {
     "data": {
      "image/png": "[encoded data removed]",
      "text/plain": [
       "<Figure size 640x480 with 1 Axes>"
      ]
     },
     "metadata": {},
     "output_type": "display_data"
    }
   ],
   "source": [
    "# Membuat grafik line chart\n",
    "plt.bar(Motivation['Motivation_Level'], Motivation['Exam_Score'], color='pink')\n",
    "\n",
    "# Menambahkan judul dan label\n",
    "plt.title('Motivation')\n",
    "plt.xlabel('Motivation_Level')\n",
    "plt.ylabel('Exam_Score')\n",
    "plt.ylim(60,70)\n",
    "\n",
    "# Menampilkan grafik\n",
    "plt.show()\n"
   ]
  },
  {
   "cell_type": "markdown",
   "metadata": {},
   "source": [
    "Through this graph, the impact of student motivation on exam scores is more clearly depicted. Students with high motivation tend to have higher exam scores compared to students with moderate motivation. Similarly, students with moderate motivation perform better than those with low motivation. Students need to be able to manage their emotions effectively in order to maintain their motivation for studying."
   ]
  },
  {
   "cell_type": "markdown",
   "metadata": {},
   "source": [
    "### Does peer group influence students' academic performance?"
   ]
  },
  {
   "cell_type": "code",
   "execution_count": 21,
   "metadata": {},
   "outputs": [
    {
     "data": {
      "text/html": [
       "<div>\n",
       "<style scoped>\n",
       "    .dataframe tbody tr th:only-of-type {\n",
       "        vertical-align: middle;\n",
       "    }\n",
       "\n",
       "    .dataframe tbody tr th {\n",
       "        vertical-align: top;\n",
       "    }\n",
       "\n",
       "    .dataframe thead th {\n",
       "        text-align: right;\n",
       "    }\n",
       "</style>\n",
       "<table border=\"1\" class=\"dataframe\">\n",
       "  <thead>\n",
       "    <tr style=\"text-align: right;\">\n",
       "      <th></th>\n",
       "      <th>Peer_Influence</th>\n",
       "      <th>Exam_Score</th>\n",
       "    </tr>\n",
       "  </thead>\n",
       "  <tbody>\n",
       "    <tr>\n",
       "      <th>0</th>\n",
       "      <td>Negative</td>\n",
       "      <td>66.411676</td>\n",
       "    </tr>\n",
       "    <tr>\n",
       "      <th>1</th>\n",
       "      <td>Neutral</td>\n",
       "      <td>66.994316</td>\n",
       "    </tr>\n",
       "    <tr>\n",
       "      <th>2</th>\n",
       "      <td>Positive</td>\n",
       "      <td>67.411111</td>\n",
       "    </tr>\n",
       "  </tbody>\n",
       "</table>\n",
       "</div>"
      ],
      "text/plain": [
       "  Peer_Influence  Exam_Score\n",
       "0       Negative   66.411676\n",
       "1        Neutral   66.994316\n",
       "2       Positive   67.411111"
      ]
     },
     "execution_count": 21,
     "metadata": {},
     "output_type": "execute_result"
    }
   ],
   "source": [
    "Peer_Influence = under_KKM.groupby('Peer_Influence')[['Exam_Score']].mean().reset_index()\n",
    "Peer_Influence"
   ]
  },
  {
   "cell_type": "markdown",
   "metadata": {},
   "source": [
    "Peer groups often influence an individual's behavior, and in this case, students' exam scores can be affected by their peer group. The results above show that positive friendships are associated with the highest exam scores. Below is the graph displaying the results of the above calculation:"
   ]
  },
  {
   "cell_type": "code",
   "execution_count": 31,
   "metadata": {},
   "outputs": [
    {
     "data": {
      "image/png": "[encoded data removed]",
      "text/plain": [
       "<Figure size 640x480 with 1 Axes>"
      ]
     },
     "metadata": {},
     "output_type": "display_data"
    }
   ],
   "source": [
    "# Membuat grafik line chart\n",
    "plt.bar(Peer_Influence['Peer_Influence'], Peer_Influence['Exam_Score'], color='purple')\n",
    "\n",
    "# Menambahkan judul dan label\n",
    "plt.title('Peer Influence')\n",
    "plt.xlabel('Peer_Influence')\n",
    "plt.ylabel('Exam_Score')\n",
    "plt.ylim(60,70)\n",
    "\n",
    "\n",
    "# Menampilkan grafik\n",
    "plt.show()"
   ]
  },
  {
   "cell_type": "markdown",
   "metadata": {},
   "source": [
    "The graph above shows that the better the student's peer group, the better their exam scores tend to be. Students must be able to choose who they associate with, considering whether their friendships lead to positive outcomes or not. Although peer groups can be considered an external factor, the decision to choose one’s social circle ultimately lies with the student themselves."
   ]
  },
  {
   "cell_type": "markdown",
   "metadata": {},
   "source": [
    "### Does parental involvement in students' education affect their academic performance?"
   ]
  },
  {
   "cell_type": "code",
   "execution_count": 23,
   "metadata": {},
   "outputs": [
    {
     "data": {
      "text/html": [
       "<div>\n",
       "<style scoped>\n",
       "    .dataframe tbody tr th:only-of-type {\n",
       "        vertical-align: middle;\n",
       "    }\n",
       "\n",
       "    .dataframe tbody tr th {\n",
       "        vertical-align: top;\n",
       "    }\n",
       "\n",
       "    .dataframe thead th {\n",
       "        text-align: right;\n",
       "    }\n",
       "</style>\n",
       "<table border=\"1\" class=\"dataframe\">\n",
       "  <thead>\n",
       "    <tr style=\"text-align: right;\">\n",
       "      <th></th>\n",
       "      <th>Parental_Involvement</th>\n",
       "      <th>Exam_Score</th>\n",
       "    </tr>\n",
       "  </thead>\n",
       "  <tbody>\n",
       "    <tr>\n",
       "      <th>0</th>\n",
       "      <td>High</td>\n",
       "      <td>67.814444</td>\n",
       "    </tr>\n",
       "    <tr>\n",
       "      <th>1</th>\n",
       "      <td>Low</td>\n",
       "      <td>66.157277</td>\n",
       "    </tr>\n",
       "    <tr>\n",
       "      <th>2</th>\n",
       "      <td>Medium</td>\n",
       "      <td>66.955645</td>\n",
       "    </tr>\n",
       "  </tbody>\n",
       "</table>\n",
       "</div>"
      ],
      "text/plain": [
       "  Parental_Involvement  Exam_Score\n",
       "0                 High   67.814444\n",
       "1                  Low   66.157277\n",
       "2               Medium   66.955645"
      ]
     },
     "execution_count": 23,
     "metadata": {},
     "output_type": "execute_result"
    }
   ],
   "source": [
    "Parental = under_KKM.groupby('Parental_Involvement')[['Exam_Score']].mean().reset_index()\n",
    "Parental"
   ]
  },
  {
   "cell_type": "markdown",
   "metadata": {},
   "source": [
    "The analysis results above show that parental involvement affects students' exam scores. The graph below provides a clearer picture of this relationship."
   ]
  },
  {
   "cell_type": "code",
   "execution_count": 32,
   "metadata": {},
   "outputs": [
    {
     "data": {
      "image/png": "[encoded data removed]",
      "text/plain": [
       "<Figure size 640x480 with 1 Axes>"
      ]
     },
     "metadata": {},
     "output_type": "display_data"
    }
   ],
   "source": [
    "# Membuat bar chart\n",
    "plt.bar(Parental['Parental_Involvement'], Parental['Exam_Score'], color='skyblue')\n",
    "\n",
    "# Menambahkan judul dan label\n",
    "plt.title('Parental Involvement')\n",
    "plt.xlabel('Parental_Involvement')\n",
    "plt.ylabel('Exam_Score')\n",
    "plt.ylim(60, 70) \n",
    "\n",
    "# Menampilkan grafik\n",
    "plt.show()\n"
   ]
  },
  {
   "cell_type": "markdown",
   "metadata": {},
   "source": [
    "Although parents are considered an external factor influencing exam scores, their involvement is closely linked to student performance, as school-age children still require parental supervision. The level of parental involvement can significantly affect whether students can maintain emotional stability, motivation to study, and other factors. This serves as an evaluation for parents to pay closer attention to their child's condition."
   ]
  },
  {
   "cell_type": "markdown",
   "metadata": {},
   "source": [
    "### Does teacher competence affect student performance?"
   ]
  },
  {
   "cell_type": "code",
   "execution_count": 25,
   "metadata": {},
   "outputs": [
    {
     "data": {
      "text/html": [
       "<div>\n",
       "<style scoped>\n",
       "    .dataframe tbody tr th:only-of-type {\n",
       "        vertical-align: middle;\n",
       "    }\n",
       "\n",
       "    .dataframe tbody tr th {\n",
       "        vertical-align: top;\n",
       "    }\n",
       "\n",
       "    .dataframe thead th {\n",
       "        text-align: right;\n",
       "    }\n",
       "</style>\n",
       "<table border=\"1\" class=\"dataframe\">\n",
       "  <thead>\n",
       "    <tr style=\"text-align: right;\">\n",
       "      <th></th>\n",
       "      <th>Teacher_Quality</th>\n",
       "      <th>Exam_Score</th>\n",
       "    </tr>\n",
       "  </thead>\n",
       "  <tbody>\n",
       "    <tr>\n",
       "      <th>0</th>\n",
       "      <td>High</td>\n",
       "      <td>67.423241</td>\n",
       "    </tr>\n",
       "    <tr>\n",
       "      <th>1</th>\n",
       "      <td>Low</td>\n",
       "      <td>66.571875</td>\n",
       "    </tr>\n",
       "    <tr>\n",
       "      <th>2</th>\n",
       "      <td>Medium</td>\n",
       "      <td>66.927628</td>\n",
       "    </tr>\n",
       "  </tbody>\n",
       "</table>\n",
       "</div>"
      ],
      "text/plain": [
       "  Teacher_Quality  Exam_Score\n",
       "0            High   67.423241\n",
       "1             Low   66.571875\n",
       "2          Medium   66.927628"
      ]
     },
     "execution_count": 25,
     "metadata": {},
     "output_type": "execute_result"
    }
   ],
   "source": [
    "Teacher = under_KKM.groupby('Teacher_Quality')[['Exam_Score']].mean().reset_index()\n",
    "Teacher"
   ]
  },
  {
   "cell_type": "markdown",
   "metadata": {},
   "source": [
    "Teacher quality impacts students' exam scores, as seen in the calculation results above. Although teachers are considered an external factor, they are responsible for educating and supervising students during school activities. The influence of teachers on students' exam scores is more clearly illustrated in the following graph:"
   ]
  },
  {
   "cell_type": "code",
   "execution_count": 33,
   "metadata": {},
   "outputs": [
    {
     "data": {
      "image/png": "[encoded data removed]",
      "text/plain": [
       "<Figure size 640x480 with 1 Axes>"
      ]
     },
     "metadata": {},
     "output_type": "display_data"
    }
   ],
   "source": [
    "plt.bar(Teacher['Teacher_Quality'], Teacher['Exam_Score'], color='lightgreen')\n",
    "\n",
    "plt.ylim(60, 70) \n",
    "plt.title(\"Teacher's Quality\")\n",
    "plt.xlabel('Teacher_Quality')\n",
    "plt.ylabel('Exam_Score')\n",
    "\n",
    "# Menampilkan grafik\n",
    "plt.show()"
   ]
  },
  {
   "cell_type": "markdown",
   "metadata": {},
   "source": [
    "Teachers serve as substitutes for parents when students are at school, so the influence of teachers on students' exam scores can be considered similar to the influence of parents. Teachers must be able to motivate and provide meaningful learning experiences so that students feel comfortable during their studies."
   ]
  },
  {
   "cell_type": "markdown",
   "metadata": {},
   "source": [
    "# Conclusion"
   ]
  },
  {
   "cell_type": "markdown",
   "metadata": {},
   "source": [
    "Based on the analysis, the following actionable suggestions can be made to improve students' exam scores:\n",
    "\n",
    "1. **Encourage Independent Study:** Students with exam scores below the minimum passing grade (KKM) should adopt the independent study habits of students who exceed the KKM, aiming for 19-24 hours of study per week.\n",
    "\n",
    "2. **Maximize School Learning:** Improve exam scores by optimizing school-based learning. Ensure students maintain their physical health to achieve maximum attendance (100%).\n",
    "\n",
    "3. **Utilize Additional Tutoring:** Encourage students to attend additional tutoring sessions as needed to help improve their exam scores. Students should assess when they would benefit from extra tutoring support.\n",
    "\n",
    "4. **Boost Student Motivation:** Foster motivation in students, as it plays a key role in increasing enthusiasm and engagement in learning.\n",
    "\n",
    "5. **Guide Peer Group Selection:** Students should be guided in choosing positive peer groups, as these groups can significantly impact their behavior and academic performance.\n",
    "\n",
    "6. **Involve Parents and Teachers:** Both parents and teachers play a crucial role in improving exam scores. Given that school-age children are highly influenced by the adults around them, it is essential for parents and teachers to collaborate closely to support and guide students effectively."
   ]
  }
 ],
 "metadata": {
  "kernelspec": {
   "display_name": "base",
   "language": "python",
   "name": "python3"
  },
  "language_info": {
   "codemirror_mode": {
    "name": "ipython",
    "version": 3
   },
   "file_extension": ".py",
   "mimetype": "text/x-python",
   "name": "python",
   "nbconvert_exporter": "python",
   "pygments_lexer": "ipython3",
   "version": "3.12.4"
  }
 },
 "nbformat": 4,
 "nbformat_minor": 2
}
