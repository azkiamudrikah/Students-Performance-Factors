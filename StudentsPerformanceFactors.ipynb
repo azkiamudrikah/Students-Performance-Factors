{
 "cells": [
  {
   "cell_type": "markdown",
   "metadata": {},
   "source": [
    "Azkia Mudrikah"
   ]
  },
  {
   "cell_type": "markdown",
   "metadata": {},
   "source": [
    "Analisis ini dilakukan guna menemukan faktor yang dapat meningkatkan prestasi siswa ditinjau dari hasil ujian siswa khususnya pada faktor-faktor yang berasal dari dalam diri siswa itu sendiri."
   ]
  },
  {
   "cell_type": "markdown",
   "metadata": {},
   "source": [
    "# Problem Statement"
   ]
  },
  {
   "cell_type": "markdown",
   "metadata": {},
   "source": [
    "SMART framework:\n",
    "\n",
    "1. Specific: Mengoptimalkan faktor-faktor yang mempengaruhi peningkatan hasil ujian siswa.\n",
    "2. Measurement: Meningkatkan nilai siswa yang belum mencapai KKM (75 dari 100).\n",
    "3. Achievable: Fokus meningkatkan faktor dari dalam diri siswa seperti menambah jam belajar, mengikuti tutor tambahan dan mengoptimalkan kehadiran di sekolah.\n",
    "4. Relevant: Berfokus pada diri siswa dapat memberikan hasil yang optimal karena nantinya lingkungan seperti apapun yang siswa hadapi, siswa tetap bisa optimal dalam belajar sehingga hasil ujiannya akan meningkat.\n",
    "5. Time-Bound: Hasil dapat dilihat dalam waktu 3 bulan (ketika Ujian Tengah Semester)"
   ]
  },
  {
   "cell_type": "markdown",
   "metadata": {},
   "source": [
    "Tujuan dari analisis ini adalah untuk meningkatkan prestasi siswa dilihat dari hasil ujian, dengan berfokus pada siswa yang nilainya belum sesuai standar (>=75). Meningkatnya nilai ujian siswa ditargetkan dapat tercapai dalam waktu 3 bulan dilihat dari hasil Ujian Tengah Semester. Target ini akan tercapai dengan meningkatkan jam belajar, menambah frekuensi tutor tambahan, dan mengoptimalkan presensi kelas."
   ]
  },
  {
   "cell_type": "markdown",
   "metadata": {},
   "source": [
    "# Breaking down the problem"
   ]
  },
  {
   "cell_type": "markdown",
   "metadata": {},
   "source": [
    "## Main problem: Meningkatkan nilai ujian siswa."
   ]
  },
  {
   "cell_type": "markdown",
   "metadata": {},
   "source": [
    "1. Siswa seperti apa yang harus kita beri perhatian lebih mengenai hasil ujiannya?\n",
    "2. Apakah frekuensi belajar siswa berpengaruh terhadap nilai ujian?\n",
    "3. Berapa lama waktu belajar mandiri siswa agar nilai ujian dapat mencapai KKM?\n",
    "4. Dapatkah menambah sesi tutor dan mengoptimalkan kehadiran di kelas berpengaruh pada nilai ujian siswa?\n",
    "5. Bagaimana pengaruh motivasi siswa terhadap nilai ujian siswa?\n",
    "6. Apakah lingkaran pertemanan berpengaruh terhadap prestasi belajar siswa?\n",
    "7. Apakah keterlibatan orang tua dalam pendidikan siswa berpengaruh terhadap prestasi siswa?\n",
    "8. Apakah kompetensi guru berpengaruh terhadap prestasi siswa?"
   ]
  },
  {
   "cell_type": "markdown",
   "metadata": {},
   "source": [
    "sumber dataset: https://www.kaggle.com/datasets/lainguyn123/student-performance-factors?select=StudentPerformanceFactors.csv"
   ]
  },
  {
   "cell_type": "code",
   "execution_count": 1,
   "metadata": {},
   "outputs": [
    {
     "data": {
      "text/html": [
       "<div>\n",
       "<style scoped>\n",
       "    .dataframe tbody tr th:only-of-type {\n",
       "        vertical-align: middle;\n",
       "    }\n",
       "\n",
       "    .dataframe tbody tr th {\n",
       "        vertical-align: top;\n",
       "    }\n",
       "\n",
       "    .dataframe thead th {\n",
       "        text-align: right;\n",
       "    }\n",
       "</style>\n",
       "<table border=\"1\" class=\"dataframe\">\n",
       "  <thead>\n",
       "    <tr style=\"text-align: right;\">\n",
       "      <th></th>\n",
       "      <th>Hours_Studied(per week)</th>\n",
       "      <th>Attendance</th>\n",
       "      <th>Parental_Involvement</th>\n",
       "      <th>Access_to_Resources</th>\n",
       "      <th>Extracurricular_Activities</th>\n",
       "      <th>Sleep_Hours</th>\n",
       "      <th>Previous_Scores</th>\n",
       "      <th>Motivation_Level</th>\n",
       "      <th>Internet_Access</th>\n",
       "      <th>Tutoring_Sessions (per month)</th>\n",
       "      <th>Family_Income</th>\n",
       "      <th>Teacher_Quality</th>\n",
       "      <th>School_Type</th>\n",
       "      <th>Peer_Influence</th>\n",
       "      <th>Physical_Activity (hours per week)</th>\n",
       "      <th>Learning_Disabilities</th>\n",
       "      <th>Parental_Education_Level</th>\n",
       "      <th>Distance_from_Home</th>\n",
       "      <th>Gender</th>\n",
       "      <th>Exam_Score</th>\n",
       "    </tr>\n",
       "  </thead>\n",
       "  <tbody>\n",
       "    <tr>\n",
       "      <th>0</th>\n",
       "      <td>23</td>\n",
       "      <td>84</td>\n",
       "      <td>Low</td>\n",
       "      <td>High</td>\n",
       "      <td>No</td>\n",
       "      <td>7</td>\n",
       "      <td>73</td>\n",
       "      <td>Low</td>\n",
       "      <td>Yes</td>\n",
       "      <td>0</td>\n",
       "      <td>Low</td>\n",
       "      <td>Medium</td>\n",
       "      <td>Public</td>\n",
       "      <td>Positive</td>\n",
       "      <td>3</td>\n",
       "      <td>No</td>\n",
       "      <td>High School</td>\n",
       "      <td>Near</td>\n",
       "      <td>Male</td>\n",
       "      <td>67</td>\n",
       "    </tr>\n",
       "    <tr>\n",
       "      <th>1</th>\n",
       "      <td>19</td>\n",
       "      <td>64</td>\n",
       "      <td>Low</td>\n",
       "      <td>Medium</td>\n",
       "      <td>No</td>\n",
       "      <td>8</td>\n",
       "      <td>59</td>\n",
       "      <td>Low</td>\n",
       "      <td>Yes</td>\n",
       "      <td>2</td>\n",
       "      <td>Medium</td>\n",
       "      <td>Medium</td>\n",
       "      <td>Public</td>\n",
       "      <td>Negative</td>\n",
       "      <td>4</td>\n",
       "      <td>No</td>\n",
       "      <td>College</td>\n",
       "      <td>Moderate</td>\n",
       "      <td>Female</td>\n",
       "      <td>61</td>\n",
       "    </tr>\n",
       "    <tr>\n",
       "      <th>2</th>\n",
       "      <td>24</td>\n",
       "      <td>98</td>\n",
       "      <td>Medium</td>\n",
       "      <td>Medium</td>\n",
       "      <td>Yes</td>\n",
       "      <td>7</td>\n",
       "      <td>91</td>\n",
       "      <td>Medium</td>\n",
       "      <td>Yes</td>\n",
       "      <td>2</td>\n",
       "      <td>Medium</td>\n",
       "      <td>Medium</td>\n",
       "      <td>Public</td>\n",
       "      <td>Neutral</td>\n",
       "      <td>4</td>\n",
       "      <td>No</td>\n",
       "      <td>Postgraduate</td>\n",
       "      <td>Near</td>\n",
       "      <td>Male</td>\n",
       "      <td>74</td>\n",
       "    </tr>\n",
       "    <tr>\n",
       "      <th>3</th>\n",
       "      <td>29</td>\n",
       "      <td>89</td>\n",
       "      <td>Low</td>\n",
       "      <td>Medium</td>\n",
       "      <td>Yes</td>\n",
       "      <td>8</td>\n",
       "      <td>98</td>\n",
       "      <td>Medium</td>\n",
       "      <td>Yes</td>\n",
       "      <td>1</td>\n",
       "      <td>Medium</td>\n",
       "      <td>Medium</td>\n",
       "      <td>Public</td>\n",
       "      <td>Negative</td>\n",
       "      <td>4</td>\n",
       "      <td>No</td>\n",
       "      <td>High School</td>\n",
       "      <td>Moderate</td>\n",
       "      <td>Male</td>\n",
       "      <td>71</td>\n",
       "    </tr>\n",
       "    <tr>\n",
       "      <th>4</th>\n",
       "      <td>19</td>\n",
       "      <td>92</td>\n",
       "      <td>Medium</td>\n",
       "      <td>Medium</td>\n",
       "      <td>Yes</td>\n",
       "      <td>6</td>\n",
       "      <td>65</td>\n",
       "      <td>Medium</td>\n",
       "      <td>Yes</td>\n",
       "      <td>3</td>\n",
       "      <td>Medium</td>\n",
       "      <td>High</td>\n",
       "      <td>Public</td>\n",
       "      <td>Neutral</td>\n",
       "      <td>4</td>\n",
       "      <td>No</td>\n",
       "      <td>College</td>\n",
       "      <td>Near</td>\n",
       "      <td>Female</td>\n",
       "      <td>70</td>\n",
       "    </tr>\n",
       "    <tr>\n",
       "      <th>...</th>\n",
       "      <td>...</td>\n",
       "      <td>...</td>\n",
       "      <td>...</td>\n",
       "      <td>...</td>\n",
       "      <td>...</td>\n",
       "      <td>...</td>\n",
       "      <td>...</td>\n",
       "      <td>...</td>\n",
       "      <td>...</td>\n",
       "      <td>...</td>\n",
       "      <td>...</td>\n",
       "      <td>...</td>\n",
       "      <td>...</td>\n",
       "      <td>...</td>\n",
       "      <td>...</td>\n",
       "      <td>...</td>\n",
       "      <td>...</td>\n",
       "      <td>...</td>\n",
       "      <td>...</td>\n",
       "      <td>...</td>\n",
       "    </tr>\n",
       "    <tr>\n",
       "      <th>6602</th>\n",
       "      <td>25</td>\n",
       "      <td>69</td>\n",
       "      <td>High</td>\n",
       "      <td>Medium</td>\n",
       "      <td>No</td>\n",
       "      <td>7</td>\n",
       "      <td>76</td>\n",
       "      <td>Medium</td>\n",
       "      <td>Yes</td>\n",
       "      <td>1</td>\n",
       "      <td>High</td>\n",
       "      <td>Medium</td>\n",
       "      <td>Public</td>\n",
       "      <td>Positive</td>\n",
       "      <td>2</td>\n",
       "      <td>No</td>\n",
       "      <td>High School</td>\n",
       "      <td>Near</td>\n",
       "      <td>Female</td>\n",
       "      <td>68</td>\n",
       "    </tr>\n",
       "    <tr>\n",
       "      <th>6603</th>\n",
       "      <td>23</td>\n",
       "      <td>76</td>\n",
       "      <td>High</td>\n",
       "      <td>Medium</td>\n",
       "      <td>No</td>\n",
       "      <td>8</td>\n",
       "      <td>81</td>\n",
       "      <td>Medium</td>\n",
       "      <td>Yes</td>\n",
       "      <td>3</td>\n",
       "      <td>Low</td>\n",
       "      <td>High</td>\n",
       "      <td>Public</td>\n",
       "      <td>Positive</td>\n",
       "      <td>2</td>\n",
       "      <td>No</td>\n",
       "      <td>High School</td>\n",
       "      <td>Near</td>\n",
       "      <td>Female</td>\n",
       "      <td>69</td>\n",
       "    </tr>\n",
       "    <tr>\n",
       "      <th>6604</th>\n",
       "      <td>20</td>\n",
       "      <td>90</td>\n",
       "      <td>Medium</td>\n",
       "      <td>Low</td>\n",
       "      <td>Yes</td>\n",
       "      <td>6</td>\n",
       "      <td>65</td>\n",
       "      <td>Low</td>\n",
       "      <td>Yes</td>\n",
       "      <td>3</td>\n",
       "      <td>Low</td>\n",
       "      <td>Medium</td>\n",
       "      <td>Public</td>\n",
       "      <td>Negative</td>\n",
       "      <td>2</td>\n",
       "      <td>No</td>\n",
       "      <td>Postgraduate</td>\n",
       "      <td>Near</td>\n",
       "      <td>Female</td>\n",
       "      <td>68</td>\n",
       "    </tr>\n",
       "    <tr>\n",
       "      <th>6605</th>\n",
       "      <td>10</td>\n",
       "      <td>86</td>\n",
       "      <td>High</td>\n",
       "      <td>High</td>\n",
       "      <td>Yes</td>\n",
       "      <td>6</td>\n",
       "      <td>91</td>\n",
       "      <td>High</td>\n",
       "      <td>Yes</td>\n",
       "      <td>2</td>\n",
       "      <td>Low</td>\n",
       "      <td>Medium</td>\n",
       "      <td>Private</td>\n",
       "      <td>Positive</td>\n",
       "      <td>3</td>\n",
       "      <td>No</td>\n",
       "      <td>High School</td>\n",
       "      <td>Far</td>\n",
       "      <td>Female</td>\n",
       "      <td>68</td>\n",
       "    </tr>\n",
       "    <tr>\n",
       "      <th>6606</th>\n",
       "      <td>15</td>\n",
       "      <td>67</td>\n",
       "      <td>Medium</td>\n",
       "      <td>Low</td>\n",
       "      <td>Yes</td>\n",
       "      <td>9</td>\n",
       "      <td>94</td>\n",
       "      <td>Medium</td>\n",
       "      <td>Yes</td>\n",
       "      <td>0</td>\n",
       "      <td>Medium</td>\n",
       "      <td>Medium</td>\n",
       "      <td>Public</td>\n",
       "      <td>Positive</td>\n",
       "      <td>4</td>\n",
       "      <td>No</td>\n",
       "      <td>Postgraduate</td>\n",
       "      <td>Near</td>\n",
       "      <td>Male</td>\n",
       "      <td>64</td>\n",
       "    </tr>\n",
       "  </tbody>\n",
       "</table>\n",
       "<p>6607 rows × 20 columns</p>\n",
       "</div>"
      ],
      "text/plain": [
       "      Hours_Studied(per week)  Attendance Parental_Involvement  \\\n",
       "0                          23          84                  Low   \n",
       "1                          19          64                  Low   \n",
       "2                          24          98               Medium   \n",
       "3                          29          89                  Low   \n",
       "4                          19          92               Medium   \n",
       "...                       ...         ...                  ...   \n",
       "6602                       25          69                 High   \n",
       "6603                       23          76                 High   \n",
       "6604                       20          90               Medium   \n",
       "6605                       10          86                 High   \n",
       "6606                       15          67               Medium   \n",
       "\n",
       "     Access_to_Resources Extracurricular_Activities  Sleep_Hours  \\\n",
       "0                   High                         No            7   \n",
       "1                 Medium                         No            8   \n",
       "2                 Medium                        Yes            7   \n",
       "3                 Medium                        Yes            8   \n",
       "4                 Medium                        Yes            6   \n",
       "...                  ...                        ...          ...   \n",
       "6602              Medium                         No            7   \n",
       "6603              Medium                         No            8   \n",
       "6604                 Low                        Yes            6   \n",
       "6605                High                        Yes            6   \n",
       "6606                 Low                        Yes            9   \n",
       "\n",
       "      Previous_Scores Motivation_Level Internet_Access  \\\n",
       "0                  73              Low             Yes   \n",
       "1                  59              Low             Yes   \n",
       "2                  91           Medium             Yes   \n",
       "3                  98           Medium             Yes   \n",
       "4                  65           Medium             Yes   \n",
       "...               ...              ...             ...   \n",
       "6602               76           Medium             Yes   \n",
       "6603               81           Medium             Yes   \n",
       "6604               65              Low             Yes   \n",
       "6605               91             High             Yes   \n",
       "6606               94           Medium             Yes   \n",
       "\n",
       "      Tutoring_Sessions (per month) Family_Income Teacher_Quality School_Type  \\\n",
       "0                                 0           Low          Medium      Public   \n",
       "1                                 2        Medium          Medium      Public   \n",
       "2                                 2        Medium          Medium      Public   \n",
       "3                                 1        Medium          Medium      Public   \n",
       "4                                 3        Medium            High      Public   \n",
       "...                             ...           ...             ...         ...   \n",
       "6602                              1          High          Medium      Public   \n",
       "6603                              3           Low            High      Public   \n",
       "6604                              3           Low          Medium      Public   \n",
       "6605                              2           Low          Medium     Private   \n",
       "6606                              0        Medium          Medium      Public   \n",
       "\n",
       "     Peer_Influence  Physical_Activity (hours per week) Learning_Disabilities  \\\n",
       "0          Positive                                   3                    No   \n",
       "1          Negative                                   4                    No   \n",
       "2           Neutral                                   4                    No   \n",
       "3          Negative                                   4                    No   \n",
       "4           Neutral                                   4                    No   \n",
       "...             ...                                 ...                   ...   \n",
       "6602       Positive                                   2                    No   \n",
       "6603       Positive                                   2                    No   \n",
       "6604       Negative                                   2                    No   \n",
       "6605       Positive                                   3                    No   \n",
       "6606       Positive                                   4                    No   \n",
       "\n",
       "     Parental_Education_Level Distance_from_Home  Gender  Exam_Score  \n",
       "0                 High School               Near    Male          67  \n",
       "1                     College           Moderate  Female          61  \n",
       "2                Postgraduate               Near    Male          74  \n",
       "3                 High School           Moderate    Male          71  \n",
       "4                     College               Near  Female          70  \n",
       "...                       ...                ...     ...         ...  \n",
       "6602              High School               Near  Female          68  \n",
       "6603              High School               Near  Female          69  \n",
       "6604             Postgraduate               Near  Female          68  \n",
       "6605              High School                Far  Female          68  \n",
       "6606             Postgraduate               Near    Male          64  \n",
       "\n",
       "[6607 rows x 20 columns]"
      ]
     },
     "execution_count": 1,
     "metadata": {},
     "output_type": "execute_result"
    }
   ],
   "source": [
    "import pandas as pd\n",
    "df = pd.read_csv('D:\\\\MILESTONE\\\\MILESTONE 1\\\\StudentPerformanceFactors.csv')\n",
    "df"
   ]
  },
  {
   "cell_type": "markdown",
   "metadata": {},
   "source": [
    "# Data Understanding"
   ]
  },
  {
   "cell_type": "markdown",
   "metadata": {},
   "source": [
    "## Dataset description\n",
    ">Dataset ini terdiri dari kumpulan pertanyaan survey terhadap ribuan siswa tentang prestasi siswa serta beberapa faktor yang mempengaruhi prestasi mereka. \n",
    "## Context\n",
    ">Memprediksi kegiatan yang bisa dilakukan oleh siswa untuk dapat meningkatkan prestasi belajar mereka.\n",
    "## Content\n",
    ">Informasi siswa mengenai jumlah jam belajar perminggu, lamanya waktu untuk melakukan kegiatan fisik, durasi tidur, keterlibatan orang tua, fasilitas pendukung dan lain-lain."
   ]
  },
  {
   "cell_type": "markdown",
   "metadata": {},
   "source": [
    "## Kolom\n",
    "\n",
    "1. Lama belajar dalam satu minggu (dalam jam)\n",
    "2. Persentase kehadiran di kelas\n",
    "3. Keterlibatan orang tua pada Pendidikan anak\n",
    "4. Ketersediaan akses untuk sumber daya Pendidikan\n",
    "5. Partisipasi siswa dalam ekstrakurikuler\n",
    "6. Rata-rata jam tidur per malam\n",
    "7. Nilai ujian sebelumnya\n",
    "8. Motivasi siswa \n",
    "9. Ketersediaan akses internet \n",
    "10. Jumlah kehadiran dalam sesi Pelajaran tambahan\n",
    "11. Pendapatan orang tua \n",
    "12. Kualitas guru \n",
    "13. Tipe sekolah (public, privat)\n",
    "14. Pengaruh teman sebaya dalam prestasi akademik \n",
    "15. Lama waktu yang dihabiskan untuk beaktivitas fisik perminggu (dalam jam)\n",
    "16. Adanya hambatan yang mengganggu pembelajaran\n",
    "17. Level Pendidikan orang tua\n",
    "18. Jarak dari rumah ke sekolah \n",
    "19. Gender \n",
    "20. Nilai ujian akhir "
   ]
  },
  {
   "cell_type": "markdown",
   "metadata": {},
   "source": [
    "# Data cleaning"
   ]
  },
  {
   "cell_type": "markdown",
   "metadata": {},
   "source": [
    "Pertama, melihat info dari dataset. Mengetahui info nama kolom beserta tipe data dalam kolom dilakukan untuk mempermudah proses analisis."
   ]
  },
  {
   "cell_type": "code",
   "execution_count": 2,
   "metadata": {},
   "outputs": [
    {
     "name": "stdout",
     "output_type": "stream",
     "text": [
      "<class 'pandas.core.frame.DataFrame'>\n",
      "RangeIndex: 6607 entries, 0 to 6606\n",
      "Data columns (total 20 columns):\n",
      " #   Column                              Non-Null Count  Dtype \n",
      "---  ------                              --------------  ----- \n",
      " 0   Hours_Studied(per week)             6607 non-null   int64 \n",
      " 1   Attendance                          6607 non-null   int64 \n",
      " 2   Parental_Involvement                6607 non-null   object\n",
      " 3   Access_to_Resources                 6607 non-null   object\n",
      " 4   Extracurricular_Activities          6607 non-null   object\n",
      " 5   Sleep_Hours                         6607 non-null   int64 \n",
      " 6   Previous_Scores                     6607 non-null   int64 \n",
      " 7   Motivation_Level                    6607 non-null   object\n",
      " 8   Internet_Access                     6607 non-null   object\n",
      " 9   Tutoring_Sessions (per month)       6607 non-null   int64 \n",
      " 10  Family_Income                       6607 non-null   object\n",
      " 11  Teacher_Quality                     6529 non-null   object\n",
      " 12  School_Type                         6607 non-null   object\n",
      " 13  Peer_Influence                      6607 non-null   object\n",
      " 14  Physical_Activity (hours per week)  6607 non-null   int64 \n",
      " 15  Learning_Disabilities               6607 non-null   object\n",
      " 16  Parental_Education_Level            6517 non-null   object\n",
      " 17  Distance_from_Home                  6540 non-null   object\n",
      " 18  Gender                              6607 non-null   object\n",
      " 19  Exam_Score                          6607 non-null   int64 \n",
      "dtypes: int64(7), object(13)\n",
      "memory usage: 1.0+ MB\n"
     ]
    }
   ],
   "source": [
    "df.info()"
   ]
  },
  {
   "cell_type": "markdown",
   "metadata": {},
   "source": [
    "Kode di bawah digunakan untuk memeriksa apakah nama kolom sudah konsisten atau belum."
   ]
  },
  {
   "cell_type": "code",
   "execution_count": 3,
   "metadata": {},
   "outputs": [
    {
     "data": {
      "text/plain": [
       "Index(['Hours_Studied(per week)', 'Attendance', 'Parental_Involvement',\n",
       "       'Access_to_Resources', 'Extracurricular_Activities', 'Sleep_Hours',\n",
       "       'Previous_Scores', 'Motivation_Level', 'Internet_Access',\n",
       "       'Tutoring_Sessions (per month)', 'Family_Income', 'Teacher_Quality',\n",
       "       'School_Type', 'Peer_Influence', 'Physical_Activity (hours per week)',\n",
       "       'Learning_Disabilities', 'Parental_Education_Level',\n",
       "       'Distance_from_Home', 'Gender', 'Exam_Score'],\n",
       "      dtype='object')"
      ]
     },
     "execution_count": 3,
     "metadata": {},
     "output_type": "execute_result"
    }
   ],
   "source": [
    "df.columns"
   ]
  },
  {
   "cell_type": "markdown",
   "metadata": {},
   "source": [
    "Dari rangkuman info di atas, diketahui bahwa seluruh nama kolom sudah konsisten, hanya perlu sedikit manipulasi saja. Terdapat 7 kolom dengan tipe data numerik, 13 data object, 6607 rows, dan 3 kolom mengandung missing value. Sebelum melakukan analisis, dilakukan data cleaning terlebih dahulu. Pertama kita akan manipulasi kolom dengan mengubah nama kolom untuk mempermudah proses analisis, Mengganti white space dengan underscore."
   ]
  },
  {
   "cell_type": "code",
   "execution_count": 4,
   "metadata": {},
   "outputs": [
    {
     "data": {
      "text/html": [
       "<div>\n",
       "<style scoped>\n",
       "    .dataframe tbody tr th:only-of-type {\n",
       "        vertical-align: middle;\n",
       "    }\n",
       "\n",
       "    .dataframe tbody tr th {\n",
       "        vertical-align: top;\n",
       "    }\n",
       "\n",
       "    .dataframe thead th {\n",
       "        text-align: right;\n",
       "    }\n",
       "</style>\n",
       "<table border=\"1\" class=\"dataframe\">\n",
       "  <thead>\n",
       "    <tr style=\"text-align: right;\">\n",
       "      <th></th>\n",
       "      <th>hours_studied(per_week)</th>\n",
       "      <th>Attendance</th>\n",
       "      <th>Parental_Involvement</th>\n",
       "      <th>Access_to_Resources</th>\n",
       "      <th>Extracurricular_Activities</th>\n",
       "      <th>Sleep_Hours</th>\n",
       "      <th>Previous_Scores</th>\n",
       "      <th>Motivation_Level</th>\n",
       "      <th>Internet_Access</th>\n",
       "      <th>Tutoring_Sessions(per_month)</th>\n",
       "      <th>Family_Income</th>\n",
       "      <th>Teacher_Quality</th>\n",
       "      <th>School_Type</th>\n",
       "      <th>Peer_Influence</th>\n",
       "      <th>Physical_Activity(hours_per_week)</th>\n",
       "      <th>Learning_Disabilities</th>\n",
       "      <th>Parental_Education_Level</th>\n",
       "      <th>Distance_from_Home</th>\n",
       "      <th>Gender</th>\n",
       "      <th>Exam_Score</th>\n",
       "    </tr>\n",
       "  </thead>\n",
       "  <tbody>\n",
       "    <tr>\n",
       "      <th>0</th>\n",
       "      <td>23</td>\n",
       "      <td>84</td>\n",
       "      <td>Low</td>\n",
       "      <td>High</td>\n",
       "      <td>No</td>\n",
       "      <td>7</td>\n",
       "      <td>73</td>\n",
       "      <td>Low</td>\n",
       "      <td>Yes</td>\n",
       "      <td>0</td>\n",
       "      <td>Low</td>\n",
       "      <td>Medium</td>\n",
       "      <td>Public</td>\n",
       "      <td>Positive</td>\n",
       "      <td>3</td>\n",
       "      <td>No</td>\n",
       "      <td>High School</td>\n",
       "      <td>Near</td>\n",
       "      <td>Male</td>\n",
       "      <td>67</td>\n",
       "    </tr>\n",
       "    <tr>\n",
       "      <th>1</th>\n",
       "      <td>19</td>\n",
       "      <td>64</td>\n",
       "      <td>Low</td>\n",
       "      <td>Medium</td>\n",
       "      <td>No</td>\n",
       "      <td>8</td>\n",
       "      <td>59</td>\n",
       "      <td>Low</td>\n",
       "      <td>Yes</td>\n",
       "      <td>2</td>\n",
       "      <td>Medium</td>\n",
       "      <td>Medium</td>\n",
       "      <td>Public</td>\n",
       "      <td>Negative</td>\n",
       "      <td>4</td>\n",
       "      <td>No</td>\n",
       "      <td>College</td>\n",
       "      <td>Moderate</td>\n",
       "      <td>Female</td>\n",
       "      <td>61</td>\n",
       "    </tr>\n",
       "    <tr>\n",
       "      <th>2</th>\n",
       "      <td>24</td>\n",
       "      <td>98</td>\n",
       "      <td>Medium</td>\n",
       "      <td>Medium</td>\n",
       "      <td>Yes</td>\n",
       "      <td>7</td>\n",
       "      <td>91</td>\n",
       "      <td>Medium</td>\n",
       "      <td>Yes</td>\n",
       "      <td>2</td>\n",
       "      <td>Medium</td>\n",
       "      <td>Medium</td>\n",
       "      <td>Public</td>\n",
       "      <td>Neutral</td>\n",
       "      <td>4</td>\n",
       "      <td>No</td>\n",
       "      <td>Postgraduate</td>\n",
       "      <td>Near</td>\n",
       "      <td>Male</td>\n",
       "      <td>74</td>\n",
       "    </tr>\n",
       "    <tr>\n",
       "      <th>3</th>\n",
       "      <td>29</td>\n",
       "      <td>89</td>\n",
       "      <td>Low</td>\n",
       "      <td>Medium</td>\n",
       "      <td>Yes</td>\n",
       "      <td>8</td>\n",
       "      <td>98</td>\n",
       "      <td>Medium</td>\n",
       "      <td>Yes</td>\n",
       "      <td>1</td>\n",
       "      <td>Medium</td>\n",
       "      <td>Medium</td>\n",
       "      <td>Public</td>\n",
       "      <td>Negative</td>\n",
       "      <td>4</td>\n",
       "      <td>No</td>\n",
       "      <td>High School</td>\n",
       "      <td>Moderate</td>\n",
       "      <td>Male</td>\n",
       "      <td>71</td>\n",
       "    </tr>\n",
       "    <tr>\n",
       "      <th>4</th>\n",
       "      <td>19</td>\n",
       "      <td>92</td>\n",
       "      <td>Medium</td>\n",
       "      <td>Medium</td>\n",
       "      <td>Yes</td>\n",
       "      <td>6</td>\n",
       "      <td>65</td>\n",
       "      <td>Medium</td>\n",
       "      <td>Yes</td>\n",
       "      <td>3</td>\n",
       "      <td>Medium</td>\n",
       "      <td>High</td>\n",
       "      <td>Public</td>\n",
       "      <td>Neutral</td>\n",
       "      <td>4</td>\n",
       "      <td>No</td>\n",
       "      <td>College</td>\n",
       "      <td>Near</td>\n",
       "      <td>Female</td>\n",
       "      <td>70</td>\n",
       "    </tr>\n",
       "  </tbody>\n",
       "</table>\n",
       "</div>"
      ],
      "text/plain": [
       "   hours_studied(per_week)  Attendance Parental_Involvement  \\\n",
       "0                       23          84                  Low   \n",
       "1                       19          64                  Low   \n",
       "2                       24          98               Medium   \n",
       "3                       29          89                  Low   \n",
       "4                       19          92               Medium   \n",
       "\n",
       "  Access_to_Resources Extracurricular_Activities  Sleep_Hours  \\\n",
       "0                High                         No            7   \n",
       "1              Medium                         No            8   \n",
       "2              Medium                        Yes            7   \n",
       "3              Medium                        Yes            8   \n",
       "4              Medium                        Yes            6   \n",
       "\n",
       "   Previous_Scores Motivation_Level Internet_Access  \\\n",
       "0               73              Low             Yes   \n",
       "1               59              Low             Yes   \n",
       "2               91           Medium             Yes   \n",
       "3               98           Medium             Yes   \n",
       "4               65           Medium             Yes   \n",
       "\n",
       "   Tutoring_Sessions(per_month) Family_Income Teacher_Quality School_Type  \\\n",
       "0                             0           Low          Medium      Public   \n",
       "1                             2        Medium          Medium      Public   \n",
       "2                             2        Medium          Medium      Public   \n",
       "3                             1        Medium          Medium      Public   \n",
       "4                             3        Medium            High      Public   \n",
       "\n",
       "  Peer_Influence  Physical_Activity(hours_per_week) Learning_Disabilities  \\\n",
       "0       Positive                                  3                    No   \n",
       "1       Negative                                  4                    No   \n",
       "2        Neutral                                  4                    No   \n",
       "3       Negative                                  4                    No   \n",
       "4        Neutral                                  4                    No   \n",
       "\n",
       "  Parental_Education_Level Distance_from_Home  Gender  Exam_Score  \n",
       "0              High School               Near    Male          67  \n",
       "1                  College           Moderate  Female          61  \n",
       "2             Postgraduate               Near    Male          74  \n",
       "3              High School           Moderate    Male          71  \n",
       "4                  College               Near  Female          70  "
      ]
     },
     "execution_count": 4,
     "metadata": {},
     "output_type": "execute_result"
    }
   ],
   "source": [
    "df.rename(columns={'Hours_Studied(per week)':'hours_studied(per_week)', 'Tutoring_Sessions (per month)':'Tutoring_Sessions(per_month)','Physical_Activity (hours per week)':'Physical_Activity(hours_per_week)'}, inplace=True)\n",
    "df.head(5)"
   ]
  },
  {
   "cell_type": "markdown",
   "metadata": {},
   "source": [
    "Setelah seluruh nama kolom dimanipulasi, berikutnya kita handling missing value dengan menghapus rows yang didalamnya terdapat missing values dan menghapus baris yang duplikat. Setelah seluruh missing value dan duplikat dihapus, periksa lagi informasi keseluruhan dataset."
   ]
  },
  {
   "cell_type": "code",
   "execution_count": 5,
   "metadata": {},
   "outputs": [
    {
     "name": "stdout",
     "output_type": "stream",
     "text": [
      "<class 'pandas.core.frame.DataFrame'>\n",
      "Index: 6378 entries, 0 to 6606\n",
      "Data columns (total 20 columns):\n",
      " #   Column                             Non-Null Count  Dtype \n",
      "---  ------                             --------------  ----- \n",
      " 0   hours_studied(per_week)            6378 non-null   int64 \n",
      " 1   Attendance                         6378 non-null   int64 \n",
      " 2   Parental_Involvement               6378 non-null   object\n",
      " 3   Access_to_Resources                6378 non-null   object\n",
      " 4   Extracurricular_Activities         6378 non-null   object\n",
      " 5   Sleep_Hours                        6378 non-null   int64 \n",
      " 6   Previous_Scores                    6378 non-null   int64 \n",
      " 7   Motivation_Level                   6378 non-null   object\n",
      " 8   Internet_Access                    6378 non-null   object\n",
      " 9   Tutoring_Sessions(per_month)       6378 non-null   int64 \n",
      " 10  Family_Income                      6378 non-null   object\n",
      " 11  Teacher_Quality                    6378 non-null   object\n",
      " 12  School_Type                        6378 non-null   object\n",
      " 13  Peer_Influence                     6378 non-null   object\n",
      " 14  Physical_Activity(hours_per_week)  6378 non-null   int64 \n",
      " 15  Learning_Disabilities              6378 non-null   object\n",
      " 16  Parental_Education_Level           6378 non-null   object\n",
      " 17  Distance_from_Home                 6378 non-null   object\n",
      " 18  Gender                             6378 non-null   object\n",
      " 19  Exam_Score                         6378 non-null   int64 \n",
      "dtypes: int64(7), object(13)\n",
      "memory usage: 1.0+ MB\n"
     ]
    }
   ],
   "source": [
    "#menghapus missing value\n",
    "df.dropna(inplace=True)\n",
    "#menghapus baris duplikat\n",
    "df.drop_duplicates(inplace=True)\n",
    "df.info()"
   ]
  },
  {
   "cell_type": "markdown",
   "metadata": {},
   "source": [
    "Hasil data cleaning terdapat 6378 rows dan tidak ada kolom yang terdapat missing value. Analisis ini berfokus pada faktor-faktor yang berasal dari dalam diri siswa. Berdasarkan kolom-kolom yang ada, dapat ditentukan bahwa kolom yang berkaitan dengan faktor dalam diri siswa adalah:\n",
    "1. Lama belajar dalam satu minggu (dalam jam)\n",
    "2. Persentase kehadiran di kelas\n",
    "3. Motivasi siswa\n",
    "4. Jumlah kehadiran dalam sesi Pelajaran tambahan\n",
    "\n",
    "Meski demikian, ada faktor lain yang berasal dari luar yang tetap harus diperhatikan yaitu:\n",
    "1. Keterlibatan orang tua pada Pendidikan anak\n",
    "2. Kualitas guru\n",
    "3. Pengaruh teman sebaya dalam prestasi akademik\n",
    "\n",
    "Ketiga faktor tambahan di atas perlu diperhatikan karena faktor-faktor tersebut dapat memberi pengaruh yang cukup besar pada diri siswa yaitu orang tua sebagai sosok yang mendidik siswa di rumah, guru yaitu sosok yang mendidik siswa di sekolah, dan lingkaran pertemanan yang seringkali memberikan pengaruh pada pribadi siswa. \n",
    "\n",
    "Setelah menentukan kolom mana saja yang dibutuhkan kita bisa menghapus kolom lain yang tidak diperlukan dalam analisis ini."
   ]
  },
  {
   "cell_type": "code",
   "execution_count": 6,
   "metadata": {},
   "outputs": [],
   "source": [
    "df = df.drop(columns=['Learning_Disabilities','Previous_Scores','Sleep_Hours','Access_to_Resources', 'Extracurricular_Activities', 'Internet_Access','Family_Income','School_Type', 'Physical_Activity(hours_per_week)','Parental_Education_Level','Distance_from_Home', 'Gender'])"
   ]
  },
  {
   "cell_type": "markdown",
   "metadata": {},
   "source": [
    "Setelah data yang dibutuhkan terkumpul, langkah selanjutnya adalah memulai analisis."
   ]
  },
  {
   "cell_type": "markdown",
   "metadata": {},
   "source": [
    "# Exploratory Data Analysis"
   ]
  },
  {
   "cell_type": "markdown",
   "metadata": {},
   "source": [
    "### Siswa seperti apa yang harus kita beri perhatian lebih mengenai hasil ujiannya?\n",
    "\n",
    "Analisis ini berfokus pada siswa yang nilai ujiannya belum melampaui KKM (kurang dari atau sama dengan 75), sehingga siswa dengan nilai kurang dari 76 menjadi fokus utama dalam penelitian ini. Buat dataframe baru dengan nilai ujian <76."
   ]
  },
  {
   "cell_type": "code",
   "execution_count": 7,
   "metadata": {},
   "outputs": [
    {
     "data": {
      "text/html": [
       "<div>\n",
       "<style scoped>\n",
       "    .dataframe tbody tr th:only-of-type {\n",
       "        vertical-align: middle;\n",
       "    }\n",
       "\n",
       "    .dataframe tbody tr th {\n",
       "        vertical-align: top;\n",
       "    }\n",
       "\n",
       "    .dataframe thead th {\n",
       "        text-align: right;\n",
       "    }\n",
       "</style>\n",
       "<table border=\"1\" class=\"dataframe\">\n",
       "  <thead>\n",
       "    <tr style=\"text-align: right;\">\n",
       "      <th></th>\n",
       "      <th>hours_studied(per_week)</th>\n",
       "      <th>Attendance</th>\n",
       "      <th>Parental_Involvement</th>\n",
       "      <th>Motivation_Level</th>\n",
       "      <th>Tutoring_Sessions(per_month)</th>\n",
       "      <th>Teacher_Quality</th>\n",
       "      <th>Peer_Influence</th>\n",
       "      <th>Exam_Score</th>\n",
       "    </tr>\n",
       "  </thead>\n",
       "  <tbody>\n",
       "    <tr>\n",
       "      <th>0</th>\n",
       "      <td>23</td>\n",
       "      <td>84</td>\n",
       "      <td>Low</td>\n",
       "      <td>Low</td>\n",
       "      <td>0</td>\n",
       "      <td>Medium</td>\n",
       "      <td>Positive</td>\n",
       "      <td>67</td>\n",
       "    </tr>\n",
       "    <tr>\n",
       "      <th>1</th>\n",
       "      <td>19</td>\n",
       "      <td>64</td>\n",
       "      <td>Low</td>\n",
       "      <td>Low</td>\n",
       "      <td>2</td>\n",
       "      <td>Medium</td>\n",
       "      <td>Negative</td>\n",
       "      <td>61</td>\n",
       "    </tr>\n",
       "    <tr>\n",
       "      <th>2</th>\n",
       "      <td>24</td>\n",
       "      <td>98</td>\n",
       "      <td>Medium</td>\n",
       "      <td>Medium</td>\n",
       "      <td>2</td>\n",
       "      <td>Medium</td>\n",
       "      <td>Neutral</td>\n",
       "      <td>74</td>\n",
       "    </tr>\n",
       "    <tr>\n",
       "      <th>3</th>\n",
       "      <td>29</td>\n",
       "      <td>89</td>\n",
       "      <td>Low</td>\n",
       "      <td>Medium</td>\n",
       "      <td>1</td>\n",
       "      <td>Medium</td>\n",
       "      <td>Negative</td>\n",
       "      <td>71</td>\n",
       "    </tr>\n",
       "    <tr>\n",
       "      <th>4</th>\n",
       "      <td>19</td>\n",
       "      <td>92</td>\n",
       "      <td>Medium</td>\n",
       "      <td>Medium</td>\n",
       "      <td>3</td>\n",
       "      <td>High</td>\n",
       "      <td>Neutral</td>\n",
       "      <td>70</td>\n",
       "    </tr>\n",
       "    <tr>\n",
       "      <th>...</th>\n",
       "      <td>...</td>\n",
       "      <td>...</td>\n",
       "      <td>...</td>\n",
       "      <td>...</td>\n",
       "      <td>...</td>\n",
       "      <td>...</td>\n",
       "      <td>...</td>\n",
       "      <td>...</td>\n",
       "    </tr>\n",
       "    <tr>\n",
       "      <th>6602</th>\n",
       "      <td>25</td>\n",
       "      <td>69</td>\n",
       "      <td>High</td>\n",
       "      <td>Medium</td>\n",
       "      <td>1</td>\n",
       "      <td>Medium</td>\n",
       "      <td>Positive</td>\n",
       "      <td>68</td>\n",
       "    </tr>\n",
       "    <tr>\n",
       "      <th>6603</th>\n",
       "      <td>23</td>\n",
       "      <td>76</td>\n",
       "      <td>High</td>\n",
       "      <td>Medium</td>\n",
       "      <td>3</td>\n",
       "      <td>High</td>\n",
       "      <td>Positive</td>\n",
       "      <td>69</td>\n",
       "    </tr>\n",
       "    <tr>\n",
       "      <th>6604</th>\n",
       "      <td>20</td>\n",
       "      <td>90</td>\n",
       "      <td>Medium</td>\n",
       "      <td>Low</td>\n",
       "      <td>3</td>\n",
       "      <td>Medium</td>\n",
       "      <td>Negative</td>\n",
       "      <td>68</td>\n",
       "    </tr>\n",
       "    <tr>\n",
       "      <th>6605</th>\n",
       "      <td>10</td>\n",
       "      <td>86</td>\n",
       "      <td>High</td>\n",
       "      <td>High</td>\n",
       "      <td>2</td>\n",
       "      <td>Medium</td>\n",
       "      <td>Positive</td>\n",
       "      <td>68</td>\n",
       "    </tr>\n",
       "    <tr>\n",
       "      <th>6606</th>\n",
       "      <td>15</td>\n",
       "      <td>67</td>\n",
       "      <td>Medium</td>\n",
       "      <td>Medium</td>\n",
       "      <td>0</td>\n",
       "      <td>Medium</td>\n",
       "      <td>Positive</td>\n",
       "      <td>64</td>\n",
       "    </tr>\n",
       "  </tbody>\n",
       "</table>\n",
       "<p>6302 rows × 8 columns</p>\n",
       "</div>"
      ],
      "text/plain": [
       "      hours_studied(per_week)  Attendance Parental_Involvement  \\\n",
       "0                          23          84                  Low   \n",
       "1                          19          64                  Low   \n",
       "2                          24          98               Medium   \n",
       "3                          29          89                  Low   \n",
       "4                          19          92               Medium   \n",
       "...                       ...         ...                  ...   \n",
       "6602                       25          69                 High   \n",
       "6603                       23          76                 High   \n",
       "6604                       20          90               Medium   \n",
       "6605                       10          86                 High   \n",
       "6606                       15          67               Medium   \n",
       "\n",
       "     Motivation_Level  Tutoring_Sessions(per_month) Teacher_Quality  \\\n",
       "0                 Low                             0          Medium   \n",
       "1                 Low                             2          Medium   \n",
       "2              Medium                             2          Medium   \n",
       "3              Medium                             1          Medium   \n",
       "4              Medium                             3            High   \n",
       "...               ...                           ...             ...   \n",
       "6602           Medium                             1          Medium   \n",
       "6603           Medium                             3            High   \n",
       "6604              Low                             3          Medium   \n",
       "6605             High                             2          Medium   \n",
       "6606           Medium                             0          Medium   \n",
       "\n",
       "     Peer_Influence  Exam_Score  \n",
       "0          Positive          67  \n",
       "1          Negative          61  \n",
       "2           Neutral          74  \n",
       "3          Negative          71  \n",
       "4           Neutral          70  \n",
       "...             ...         ...  \n",
       "6602       Positive          68  \n",
       "6603       Positive          69  \n",
       "6604       Negative          68  \n",
       "6605       Positive          68  \n",
       "6606       Positive          64  \n",
       "\n",
       "[6302 rows x 8 columns]"
      ]
     },
     "execution_count": 7,
     "metadata": {},
     "output_type": "execute_result"
    }
   ],
   "source": [
    "under_KKM = df.loc[df['Exam_Score'] < 76]\n",
    "under_KKM"
   ]
  },
  {
   "cell_type": "markdown",
   "metadata": {},
   "source": [
    "Setelah data frame hanya berisi nilai di bawah KKM, lakukan perhitungan untuk mengetahui mean, median, dan modus untuk mengetahui gap antara nilai KKM dan rata-rata nilai di bawah KKM."
   ]
  },
  {
   "cell_type": "code",
   "execution_count": 8,
   "metadata": {},
   "outputs": [
    {
     "name": "stdout",
     "output_type": "stream",
     "text": [
      "Rata-rata nilai 67\n",
      "Median nilai 67.0\n",
      "Modus nilai 68\n",
      "persentase nilai siswa di bawah KKM 98.81%\n"
     ]
    }
   ],
   "source": [
    "mean = under_KKM['Exam_Score'].mean()\n",
    "median = under_KKM['Exam_Score'].median()\n",
    "modus = under_KKM['Exam_Score'].mode().values[0]\n",
    "\n",
    "print(f'Rata-rata nilai {mean:.0f}')\n",
    "print(f'Median nilai {median}')\n",
    "print(f'Modus nilai {modus}')\n",
    "print(f'persentase nilai siswa di bawah KKM {round((((len(under_KKM)/len(df)))*100), 2)}%')"
   ]
  },
  {
   "cell_type": "markdown",
   "metadata": {},
   "source": [
    "Kode dibawah ini digunakan untuk memastikan apakah nilai modus yang muncul pada hasil perhitungan di atas merupakan nilai modus satu-satunya pada data ini."
   ]
  },
  {
   "cell_type": "code",
   "execution_count": 9,
   "metadata": {},
   "outputs": [
    {
     "data": {
      "text/plain": [
       "Exam_Score\n",
       "68    738\n",
       "66    722\n",
       "67    692\n",
       "65    650\n",
       "69    599\n",
       "70    526\n",
       "64    478\n",
       "71    398\n",
       "63    350\n",
       "72    298\n",
       "62    261\n",
       "61    166\n",
       "73    133\n",
       "74    102\n",
       "60     75\n",
       "75     48\n",
       "59     39\n",
       "58     21\n",
       "57      4\n",
       "55      1\n",
       "56      1\n",
       "Name: count, dtype: int64"
      ]
     },
     "execution_count": 9,
     "metadata": {},
     "output_type": "execute_result"
    }
   ],
   "source": [
    "under_KKM['Exam_Score'].value_counts()"
   ]
  },
  {
   "cell_type": "markdown",
   "metadata": {},
   "source": [
    "Berikut adalah perbandingan banyak nilai siswa yang mencapai KKM dan siswa yang nilainya masih di bawah KKM."
   ]
  },
  {
   "cell_type": "code",
   "execution_count": 10,
   "metadata": {},
   "outputs": [
    {
     "data": {
      "image/png": "[encoded data removed]",
      "text/plain": [
       "<Figure size 640x480 with 1 Axes>"
      ]
     },
     "metadata": {},
     "output_type": "display_data"
    }
   ],
   "source": [
    "import matplotlib.pyplot as plt\n",
    "\n",
    "labels = [\"Di bawah KKM\", \"Di atas KKM\"]\n",
    "sizes = [98.81, 1.19]\n",
    "colors = ['lightblue','green']\n",
    "\n",
    "plt.pie(sizes, labels=labels, colors=colors,\n",
    "        autopct='%1.1f%%', shadow=True, startangle=140)\n",
    "\n",
    "plt.axis('equal')\n",
    "plt.title('Perbandingan Nilai Siswa')\n",
    "plt.show()"
   ]
  },
  {
   "cell_type": "markdown",
   "metadata": {},
   "source": [
    "Perbandingan di atas memberikan gambaran jelas betapa sedikit siswa yang berhasil mendapat nilai di atas KKM. Namun kondisi ini tidak terlalu buruk jika melihat nilai rata-rata dan mediannya yaitu sebesar 67 serta nilai modus 68. Nilai rata-rata dan nilai median hanya terpaut 8 skor di bawah 75 dimana selisih skor tersebut bukan selisih yang jauh. Terlebih lagi nilai modusnya 68 dimana nilai ini memiliki gap yang lebih kecil dengan nilai KKM dibanding nilai rata-rata dan median.\n",
    "\n",
    "Hasil dari perhitungan mean, median, dan modus ini dapat disimpulkan bahwa siswa dengan nilai di bawah KKM bisa diasumsikan bukanlah siswa dengan kemampuan rendah, melainkan mereka hanya butuh sedikit tambahan perhatian untuk dapat melampaui nilai KKM."
   ]
  },
  {
   "cell_type": "markdown",
   "metadata": {},
   "source": [
    "### Apakah frekuensi belajar siswa berpengaruh terhadap nilai ujian?"
   ]
  },
  {
   "cell_type": "markdown",
   "metadata": {},
   "source": [
    "Sebelum melakukan analisis statistik untuk menjawab permasalahan ini, dilakukan uji normalitas terlebih dahulu. Jika melihat dari nilai mean, median, dan modus pada perhitungan sebelumnya, nampaknya data ini berdistribusi normal. Namun asumsi ini tetap harus diperkuat dengan uji normalitas mengingat jumlah datanya besar berpotensi memiliki distribusi yang luas yang menyebabkan data tidak normal."
   ]
  },
  {
   "cell_type": "markdown",
   "metadata": {},
   "source": [
    "Uji normalitas dilakukan dengan  metode Kolmogorov-Smirnov Test (K-S Test). Metode ini digunakan karena menurut beberapa sumber, metode Kolmogorov-Smirnov Test (K-S Test) cenderung lebih sensitif terhadap data dengan jumlah besar dan hasilnya cenderung lebih akurat. \n",
    "\n",
    "Hipotesis untuk uji normalitas adalah sebagai berikut:\n",
    "\n",
    "H0 = p-value > 0.05, maka data berdistribusi normal\n",
    "\n",
    "H1 = p-value < 0.05, maka data tidak berdistribusi normal"
   ]
  },
  {
   "cell_type": "code",
   "execution_count": 11,
   "metadata": {},
   "outputs": [
    {
     "name": "stdout",
     "output_type": "stream",
     "text": [
      "P-value Jam Belajar (K-S Test): 0.0\n",
      "P-value Nilai Ujian (K-S Test): 0.0\n"
     ]
    }
   ],
   "source": [
    "from scipy.stats import kstest\n",
    "\n",
    "stat_jb, p_jb = kstest(under_KKM['hours_studied(per_week)'], 'norm')\n",
    "stat_nu, p_nu = kstest(under_KKM['Exam_Score'], 'norm')\n",
    "\n",
    "print(f'P-value Jam Belajar (K-S Test): {p_jb}')\n",
    "print(f'P-value Nilai Ujian (K-S Test): {p_nu}')\n"
   ]
  },
  {
   "cell_type": "markdown",
   "metadata": {},
   "source": [
    "Hasil uji normalitas menunjukkan nilai p < 0.05 maka data tidak berdistribusi normal, dengan demikian pengujian pengaruh banyak jam belajar terhadap nilai ujian dilanjutkan menggunakan metode spearmanr."
   ]
  },
  {
   "cell_type": "code",
   "execution_count": 12,
   "metadata": {},
   "outputs": [
    {
     "name": "stdout",
     "output_type": "stream",
     "text": [
      "Spearman correlation: 0.48, P-value: 0.0\n"
     ]
    }
   ],
   "source": [
    "from scipy.stats import spearmanr\n",
    "corr, p_value = spearmanr(under_KKM['hours_studied(per_week)'], under_KKM['Exam_Score'])\n",
    "print(f'Spearman correlation: {(corr):.2f}, P-value: {p_value}')"
   ]
  },
  {
   "cell_type": "markdown",
   "metadata": {},
   "source": [
    "Nilai korelasi sebesar 0.48 menunjukkan adanya korelasi positif antara nilai ujian dan durasi belajar. Artinya ketika durasi belajar meningkat, maka nilai ujian juga cenderung meningkat. Sedangkan nilai p value <0.05 menunjukkan hubungan antara durasi belajar dan nilai ujian merupakan hubungan yang signifikan. "
   ]
  },
  {
   "cell_type": "markdown",
   "metadata": {},
   "source": [
    "### Berapa lama waktu belajar mandiri dalam satu minggu agar nilai ujian siswa dapat mencapai KKM?"
   ]
  },
  {
   "cell_type": "markdown",
   "metadata": {},
   "source": [
    "Setelah mengetahui bahwa lama waktu belajar mandiri berpengaruh terhadap nilai ujian siswa, kita bisa menghitung perkiraan berapa lama waktu belajar yang tepat untuk meningkatkan nilai ujian menggunakan data yang ada. \n",
    "\n",
    "Perlu diingat bahwa disini kita ingin mengetahui rentang waktu yang optimal agar siswa dapat mencapai nilai KKM, sehingga waktu belajar yang dijadikan patokan adalah waktu belajar dari data siswa yang nilai ujiannya sudah melampaui KKM. "
   ]
  },
  {
   "cell_type": "markdown",
   "metadata": {},
   "source": [
    "Pertama partisi kolom siswa yang nilai ujiannya melebihi KKM dari seluruh dataframe."
   ]
  },
  {
   "cell_type": "code",
   "execution_count": 13,
   "metadata": {},
   "outputs": [],
   "source": [
    "upper_KKM = df.loc[df['Exam_Score'] > 75]"
   ]
  },
  {
   "cell_type": "markdown",
   "metadata": {},
   "source": [
    "Selanjutnya partisi kolom lama belajar dan nilai ujian menjadi satu dataframe baru."
   ]
  },
  {
   "cell_type": "code",
   "execution_count": 14,
   "metadata": {},
   "outputs": [],
   "source": [
    "BM2 = upper_KKM[['hours_studied(per_week)','Exam_Score']].groupby('Exam_Score').mean()"
   ]
  },
  {
   "cell_type": "markdown",
   "metadata": {},
   "source": [
    "Setelah dataframe yang berisi kolom lama jam belajar dan nilai ujian dibuat, langkah selanjutnya kita melakukan perhitungan untuk mengetahui berapa lama waktu belajar yang optimal untuk dapat meningkatkan nilai ujian siswa. Rentang tersebut dapat dihitung dengan mencari confidence interval (dalam kasus ini, confidence interval yang digunakan adalah 95%) dengan kode berikut:"
   ]
  },
  {
   "cell_type": "code",
   "execution_count": 15,
   "metadata": {},
   "outputs": [
    {
     "name": "stdout",
     "output_type": "stream",
     "text": [
      "Lower Limit: 19.47171844692568\n",
      "Upper Limit: 24.305712108629873\n"
     ]
    }
   ],
   "source": [
    "from scipy import stats\n",
    "import numpy as np\n",
    "\n",
    "std = BM2['hours_studied(per_week)'].std()     \n",
    "N = len(BM2)                    \n",
    "low, up = stats.norm.interval(    \n",
    "    0.95,                         \n",
    "    loc=BM2['hours_studied(per_week)'].mean(), \n",
    "    scale=std/np.sqrt(N)          \n",
    "    )\n",
    "print('Lower Limit:',low)   \n",
    "print('Upper Limit:',up) "
   ]
  },
  {
   "cell_type": "markdown",
   "metadata": {},
   "source": [
    "Berdasarkan hasil perhitungan di atas, didapat bahwa waktu belajar yang optimal untuk melampaui nilai KKM adalah 19 - 24 jam dalam seminggu."
   ]
  },
  {
   "cell_type": "markdown",
   "metadata": {},
   "source": [
    "### Dapatkah menambah sesi tutor dan mengoptimalkan kehadiran di kelas berpengaruh pada nilai ujian siswa?"
   ]
  },
  {
   "cell_type": "markdown",
   "metadata": {},
   "source": [
    "Sama seperti sebelumnya, data pada kolom Tutoring_Sessions(per_month) dan attendance juga harus diuji normalitasnya. Hipotesis untuk uji normalitas adalah sebagai berikut:\n",
    "\n",
    "H0 = p-value > 0.05, maka data berdistribusi normal\n",
    "\n",
    "H1 = p-value < 0.05, maka data tidak berdistribusi normal"
   ]
  },
  {
   "cell_type": "markdown",
   "metadata": {},
   "source": [
    "confidence interval dan critical value mirip\n",
    "memprediksi sesuatu dengan confidence level misal 95%"
   ]
  },
  {
   "cell_type": "code",
   "execution_count": 16,
   "metadata": {},
   "outputs": [
    {
     "name": "stdout",
     "output_type": "stream",
     "text": [
      "P-value attendance (K-S Test): 0.0\n",
      "P-value sesi tutoring (K-S Test): 0.0\n"
     ]
    }
   ],
   "source": [
    "stat_att, p_att = kstest(under_KKM['Attendance'], 'norm')\n",
    "stat_ts, p_ts = kstest(under_KKM['Tutoring_Sessions(per_month)'], 'norm')\n",
    "\n",
    "print(f'P-value attendance (K-S Test): {p_ts}')\n",
    "print(f'P-value sesi tutoring (K-S Test): {p_ts}')"
   ]
  },
  {
   "cell_type": "markdown",
   "metadata": {},
   "source": [
    "Nilai p value < 0.05 menunjukkan kedua data berdistribusi tidak normal."
   ]
  },
  {
   "cell_type": "code",
   "execution_count": 17,
   "metadata": {},
   "outputs": [
    {
     "name": "stdout",
     "output_type": "stream",
     "text": [
      "Spearman correlation kehadiran di kelas: 0.68, P-value: 0.00\n",
      "Spearman correlation tutoring session: 0.16, P-value: 0.00\n"
     ]
    }
   ],
   "source": [
    "corr, p_value = spearmanr(under_KKM['Attendance'], under_KKM['Exam_Score'])\n",
    "corr2, p_value2 = spearmanr(under_KKM['Tutoring_Sessions(per_month)'], under_KKM['Exam_Score'])\n",
    "print(f'Spearman correlation kehadiran di kelas: {(corr):.2f}, P-value: {p_value:.2f}')\n",
    "print(f'Spearman correlation tutoring session: {(corr2):.2f}, P-value: {p_value2:.2f}')"
   ]
  },
  {
   "cell_type": "markdown",
   "metadata": {},
   "source": [
    "Nilai korelasi antara kehadiran dan tutoring session dengan nilai ujian sebesar 0.68 dan 0.16 menunjukkan adanya korelasi positif antara keduanya dengan nilai ujian. Sedangkan nilai p value <0.05 menunjukkan hubungan antara kehadiran dan tutoring session dengan nilai ujian merupakan hubungan yang signifikan. Dapat disimpulkan bahwa mengoptimalkan kehadiran siswa di kelas dan menambah sesi tutor dapat meningkatkan nilai ujian siswa."
   ]
  },
  {
   "cell_type": "markdown",
   "metadata": {},
   "source": [
    "### Bagaimana pengaruh motivasi siswa terhadap nilai ujian siswa?\n"
   ]
  },
  {
   "cell_type": "markdown",
   "metadata": {},
   "source": [
    "Untuk mengetahui bagaimana hubungan antara motivasi dan nilai ujian, dilakukan kalkulasi dengan metode sebagai berikut:"
   ]
  },
  {
   "cell_type": "code",
   "execution_count": 18,
   "metadata": {},
   "outputs": [
    {
     "data": {
      "text/html": [
       "<div>\n",
       "<style scoped>\n",
       "    .dataframe tbody tr th:only-of-type {\n",
       "        vertical-align: middle;\n",
       "    }\n",
       "\n",
       "    .dataframe tbody tr th {\n",
       "        vertical-align: top;\n",
       "    }\n",
       "\n",
       "    .dataframe thead th {\n",
       "        text-align: right;\n",
       "    }\n",
       "</style>\n",
       "<table border=\"1\" class=\"dataframe\">\n",
       "  <thead>\n",
       "    <tr style=\"text-align: right;\">\n",
       "      <th></th>\n",
       "      <th>Motivation_Level</th>\n",
       "      <th>Exam_Score</th>\n",
       "    </tr>\n",
       "  </thead>\n",
       "  <tbody>\n",
       "    <tr>\n",
       "      <th>0</th>\n",
       "      <td>High</td>\n",
       "      <td>67.491242</td>\n",
       "    </tr>\n",
       "    <tr>\n",
       "      <th>1</th>\n",
       "      <td>Low</td>\n",
       "      <td>66.572821</td>\n",
       "    </tr>\n",
       "    <tr>\n",
       "      <th>2</th>\n",
       "      <td>Medium</td>\n",
       "      <td>67.130666</td>\n",
       "    </tr>\n",
       "  </tbody>\n",
       "</table>\n",
       "</div>"
      ],
      "text/plain": [
       "  Motivation_Level  Exam_Score\n",
       "0             High   67.491242\n",
       "1              Low   66.572821\n",
       "2           Medium   67.130666"
      ]
     },
     "execution_count": 18,
     "metadata": {},
     "output_type": "execute_result"
    }
   ],
   "source": [
    "Motivation = under_KKM.groupby('Motivation_Level')[['Exam_Score']].mean().reset_index()\n",
    "Motivation"
   ]
  },
  {
   "cell_type": "markdown",
   "metadata": {},
   "source": [
    "Hasil di atas menunjukkan bahwa motivasi siswa berpengaruh terhadap nilai ujian. Meski perbedaannya hanya sedikit, namun tetap saja motivasi ini berpengaruh terhadap nilai ujian siswa. Untuk lebih jelasnya, hasil analisis di atas ditampilkan dalam grafik berikut:"
   ]
  },
  {
   "cell_type": "code",
   "execution_count": 19,
   "metadata": {},
   "outputs": [
    {
     "data": {
      "image/png": "[encoded data removed]",
      "text/plain": [
       "<Figure size 640x480 with 1 Axes>"
      ]
     },
     "metadata": {},
     "output_type": "display_data"
    }
   ],
   "source": [
    "import matplotlib.pyplot as plt\n",
    "\n",
    "# Membuat grafik line chart\n",
    "plt.bar(Motivation['Motivation_Level'], Motivation['Exam_Score'], color='pink')\n",
    "\n",
    "# Menambahkan judul dan label\n",
    "plt.title('Motivasi Siswa')\n",
    "plt.xlabel('Motivation_Level')\n",
    "plt.ylabel('Exam_Score')\n",
    "plt.ylim(60,70)\n",
    "\n",
    "# Menampilkan grafik\n",
    "plt.show()\n"
   ]
  },
  {
   "cell_type": "markdown",
   "metadata": {},
   "source": [
    "Melalui grafik ini, penggambaran mengenai pengaruh motivasi siswa terhadap nilai ujian lebih terlihat. Siswa dengan motivasi tinggi nilai ujiannya lebih tinggi daripada siswa dengan motivasi sedang. Begitu pula siswa dengan motivasi sedang, nilai ujiannya lebih tinggi daripada siswa dengan motivasi rendah. Siswa harus pandai mengelola emosi guna menjaga motivasinya dalam belajar."
   ]
  },
  {
   "cell_type": "markdown",
   "metadata": {},
   "source": [
    "### Apakah lingkaran pertemanan berpengaruh terhadap prestasi belajar siswa?"
   ]
  },
  {
   "cell_type": "code",
   "execution_count": 20,
   "metadata": {},
   "outputs": [
    {
     "data": {
      "text/html": [
       "<div>\n",
       "<style scoped>\n",
       "    .dataframe tbody tr th:only-of-type {\n",
       "        vertical-align: middle;\n",
       "    }\n",
       "\n",
       "    .dataframe tbody tr th {\n",
       "        vertical-align: top;\n",
       "    }\n",
       "\n",
       "    .dataframe thead th {\n",
       "        text-align: right;\n",
       "    }\n",
       "</style>\n",
       "<table border=\"1\" class=\"dataframe\">\n",
       "  <thead>\n",
       "    <tr style=\"text-align: right;\">\n",
       "      <th></th>\n",
       "      <th>Peer_Influence</th>\n",
       "      <th>Exam_Score</th>\n",
       "    </tr>\n",
       "  </thead>\n",
       "  <tbody>\n",
       "    <tr>\n",
       "      <th>0</th>\n",
       "      <td>Negative</td>\n",
       "      <td>66.411676</td>\n",
       "    </tr>\n",
       "    <tr>\n",
       "      <th>1</th>\n",
       "      <td>Neutral</td>\n",
       "      <td>66.994316</td>\n",
       "    </tr>\n",
       "    <tr>\n",
       "      <th>2</th>\n",
       "      <td>Positive</td>\n",
       "      <td>67.411111</td>\n",
       "    </tr>\n",
       "  </tbody>\n",
       "</table>\n",
       "</div>"
      ],
      "text/plain": [
       "  Peer_Influence  Exam_Score\n",
       "0       Negative   66.411676\n",
       "1        Neutral   66.994316\n",
       "2       Positive   67.411111"
      ]
     },
     "execution_count": 20,
     "metadata": {},
     "output_type": "execute_result"
    }
   ],
   "source": [
    "Peer_Influence = under_KKM.groupby('Peer_Influence')[['Exam_Score']].mean().reset_index()\n",
    "Peer_Influence"
   ]
  },
  {
   "cell_type": "markdown",
   "metadata": {},
   "source": [
    "Lingkaran pertemanan seringkali mempengaruhi perilaku suatu individu, dalam hal ini contohnya adalah nilai ujian siswa dapat dipengaruhi oleh lingkaran pertemanannya. Hasil diatas menunjukkan bahwa pertemanan yang positif menunjukkan hasil ujian yang paling tinggi. Berikut adalah grafik hasil kalkulasi di atas:"
   ]
  },
  {
   "cell_type": "code",
   "execution_count": 21,
   "metadata": {},
   "outputs": [
    {
     "data": {
      "image/png": "[encoded data removed]",
      "text/plain": [
       "<Figure size 640x480 with 1 Axes>"
      ]
     },
     "metadata": {},
     "output_type": "display_data"
    }
   ],
   "source": [
    "import matplotlib.pyplot as plt\n",
    "\n",
    "# Membuat grafik line chart\n",
    "plt.bar(Peer_Influence['Peer_Influence'], Peer_Influence['Exam_Score'], color='purple')\n",
    "\n",
    "# Menambahkan judul dan label\n",
    "plt.title('Pengaruh Teman Sebaya')\n",
    "plt.xlabel('Peer_Influence')\n",
    "plt.ylabel('Exam_Score')\n",
    "plt.ylim(60,70)\n",
    "\n",
    "\n",
    "# Menampilkan grafik\n",
    "plt.show()"
   ]
  },
  {
   "cell_type": "markdown",
   "metadata": {},
   "source": [
    "Grafik di atas menunjukkan bahwa semakin baik circle pertemanan siswa, maka semakin baik pula nilai ujiannya. Siswa harus bisa menentukan dengan siapa dia bergaul, apakah pergaulannya membawanya pada hal yang positif atau sebaliknya. Meski lingkaran pertemanan bisa dibilang sebagai faktor dari luar, namun keputusan untuk memilih lingkaran pertemanan merupakan keputusan yang berasal dari siswa itu sendiri."
   ]
  },
  {
   "cell_type": "markdown",
   "metadata": {},
   "source": [
    "### Apakah keterlibatan orang tua dalam pendidikan siswa berpengaruh terhadap prestasi siswa?"
   ]
  },
  {
   "cell_type": "code",
   "execution_count": 22,
   "metadata": {},
   "outputs": [
    {
     "data": {
      "text/html": [
       "<div>\n",
       "<style scoped>\n",
       "    .dataframe tbody tr th:only-of-type {\n",
       "        vertical-align: middle;\n",
       "    }\n",
       "\n",
       "    .dataframe tbody tr th {\n",
       "        vertical-align: top;\n",
       "    }\n",
       "\n",
       "    .dataframe thead th {\n",
       "        text-align: right;\n",
       "    }\n",
       "</style>\n",
       "<table border=\"1\" class=\"dataframe\">\n",
       "  <thead>\n",
       "    <tr style=\"text-align: right;\">\n",
       "      <th></th>\n",
       "      <th>Parental_Involvement</th>\n",
       "      <th>Exam_Score</th>\n",
       "    </tr>\n",
       "  </thead>\n",
       "  <tbody>\n",
       "    <tr>\n",
       "      <th>0</th>\n",
       "      <td>High</td>\n",
       "      <td>67.814444</td>\n",
       "    </tr>\n",
       "    <tr>\n",
       "      <th>1</th>\n",
       "      <td>Low</td>\n",
       "      <td>66.157277</td>\n",
       "    </tr>\n",
       "    <tr>\n",
       "      <th>2</th>\n",
       "      <td>Medium</td>\n",
       "      <td>66.955645</td>\n",
       "    </tr>\n",
       "  </tbody>\n",
       "</table>\n",
       "</div>"
      ],
      "text/plain": [
       "  Parental_Involvement  Exam_Score\n",
       "0                 High   67.814444\n",
       "1                  Low   66.157277\n",
       "2               Medium   66.955645"
      ]
     },
     "execution_count": 22,
     "metadata": {},
     "output_type": "execute_result"
    }
   ],
   "source": [
    "Parental = under_KKM.groupby('Parental_Involvement')[['Exam_Score']].mean().reset_index()\n",
    "Parental"
   ]
  },
  {
   "cell_type": "markdown",
   "metadata": {},
   "source": [
    "Hasil analisis di atas menunjukkan keterlibatan orang tua berpengaruh terhadap nilai ujian siswa. Grafik di bawah dapat memberikan gambaran lebih jelas mengenai hal ini."
   ]
  },
  {
   "cell_type": "code",
   "execution_count": 23,
   "metadata": {},
   "outputs": [
    {
     "data": {
      "image/png": "[encoded data removed]",
      "text/plain": [
       "<Figure size 640x480 with 1 Axes>"
      ]
     },
     "metadata": {},
     "output_type": "display_data"
    }
   ],
   "source": [
    "import matplotlib.pyplot as plt\n",
    "\n",
    "# Membuat bar chart\n",
    "plt.bar(Parental['Parental_Involvement'], Parental['Exam_Score'], color='skyblue')\n",
    "\n",
    "# Menambahkan judul dan label\n",
    "plt.title('Pengaruh Keterlibatan Orang Tua')\n",
    "plt.xlabel('Parental_Involvement')\n",
    "plt.ylabel('Exam_Score')\n",
    "plt.ylim(60, 70) \n",
    "\n",
    "# Menampilkan grafik\n",
    "plt.show()\n"
   ]
  },
  {
   "cell_type": "markdown",
   "metadata": {},
   "source": [
    "Orang tua meski dalam hal ini menjadi bagian dari faktor luar yang berpengaruh pada nilai ujian, tetapi bisa dikatakan memiliki keterkaitan yang sangat erat mengingat anak usia sekolah masih banyak memerlukan pantauan orang tua. Sedikit banyaknya orang tua dapat menjadi faktor penunjang apakah siswa bisa menjaga kestabilan emosi, motivasi belajar, dan lainnya. Hal ini bisa menjadi bahan evaluasi bagi para orang tua untuk lebih memperhatikan kondisi anaknya."
   ]
  },
  {
   "cell_type": "markdown",
   "metadata": {},
   "source": [
    "### Apakah kompetensi guru berpengaruh terhadap prestasi siswa?"
   ]
  },
  {
   "cell_type": "code",
   "execution_count": 24,
   "metadata": {},
   "outputs": [
    {
     "data": {
      "text/html": [
       "<div>\n",
       "<style scoped>\n",
       "    .dataframe tbody tr th:only-of-type {\n",
       "        vertical-align: middle;\n",
       "    }\n",
       "\n",
       "    .dataframe tbody tr th {\n",
       "        vertical-align: top;\n",
       "    }\n",
       "\n",
       "    .dataframe thead th {\n",
       "        text-align: right;\n",
       "    }\n",
       "</style>\n",
       "<table border=\"1\" class=\"dataframe\">\n",
       "  <thead>\n",
       "    <tr style=\"text-align: right;\">\n",
       "      <th></th>\n",
       "      <th>Teacher_Quality</th>\n",
       "      <th>Exam_Score</th>\n",
       "    </tr>\n",
       "  </thead>\n",
       "  <tbody>\n",
       "    <tr>\n",
       "      <th>0</th>\n",
       "      <td>High</td>\n",
       "      <td>67.423241</td>\n",
       "    </tr>\n",
       "    <tr>\n",
       "      <th>1</th>\n",
       "      <td>Low</td>\n",
       "      <td>66.571875</td>\n",
       "    </tr>\n",
       "    <tr>\n",
       "      <th>2</th>\n",
       "      <td>Medium</td>\n",
       "      <td>66.927628</td>\n",
       "    </tr>\n",
       "  </tbody>\n",
       "</table>\n",
       "</div>"
      ],
      "text/plain": [
       "  Teacher_Quality  Exam_Score\n",
       "0            High   67.423241\n",
       "1             Low   66.571875\n",
       "2          Medium   66.927628"
      ]
     },
     "execution_count": 24,
     "metadata": {},
     "output_type": "execute_result"
    }
   ],
   "source": [
    "Teacher = under_KKM.groupby('Teacher_Quality')[['Exam_Score']].mean().reset_index()\n",
    "Teacher"
   ]
  },
  {
   "cell_type": "markdown",
   "metadata": {},
   "source": [
    "Kualitas guru berpengaruh pada nilai ujian siswa seperti yang nampak pada hasil kalkulasi di atas. Meski guru merupakan faktor luar, namun guru adalah seseorang yang bertanggung jawab untuk mendidik dan mengawasi siswa selama kegiatan belajar di sekolah. Pengaruh guru terhadap nilai ujian siswa dapat dilihat lebih jelas pada grafik berikut:"
   ]
  },
  {
   "cell_type": "code",
   "execution_count": 25,
   "metadata": {},
   "outputs": [
    {
     "data": {
      "image/png": "[encoded data removed]",
      "text/plain": [
       "<Figure size 640x480 with 1 Axes>"
      ]
     },
     "metadata": {},
     "output_type": "display_data"
    }
   ],
   "source": [
    "import matplotlib.pyplot as plt\n",
    "\n",
    "plt.bar(Teacher['Teacher_Quality'], Teacher['Exam_Score'], color='lightgreen')\n",
    "\n",
    "plt.ylim(60, 70) \n",
    "plt.title('Pengaruh Kualitas Guru')\n",
    "plt.xlabel('Teacher_Quality')\n",
    "plt.ylabel('Exam_Score')\n",
    "\n",
    "# Menampilkan grafik\n",
    "plt.show()"
   ]
  },
  {
   "cell_type": "markdown",
   "metadata": {},
   "source": [
    "Guru menjadi pengganti orang tua ketika siswa berada di sekolah, sehingga pengaruh guru terhadap nilai ujian siswa bisa dikatakan mirip dengan pengaruh orang tua terhadap nilai ujian siswa. Guru harus bisa memberi semangat dan memberikan pengalaman belajar yang berkesan agar siswa bisa merasa nyaman selama belajar."
   ]
  },
  {
   "cell_type": "markdown",
   "metadata": {},
   "source": [
    "# Kesimpulan"
   ]
  },
  {
   "cell_type": "markdown",
   "metadata": {},
   "source": [
    "Berdasarkan analisis yang telah di lakukan, dapat disimpulkan bahwa faktor yang dapat mempengaruhi nilai ujian siswa adalah sebagai berikut:\n",
    "1. Durasi belajar mandiri berpengaruh terhadap nilai ujian, dalam hal ini siswa dengan nilai ujian di bawah KKM dapat mengikuti kebiasaan belajar mandiri yang dilakukan oleh siswa yang nilai ujiannya diatas KKM yaitu 19-24 jam dalam satu minggu. \n",
    "2. Nilai ujian dapat ditingkatkan dengan memaksimalkan pembelajaran di sekolah salah satunya mengoptimalkan kehadiran siswa dengan menjaga kondisi badan siswa agar persentase kehadirannya bisa maksimal (100%).\n",
    "3. Kehadiran siswa dalam sesi tutor tambahan dapat membantu meningkatkan nilai ujian. Dalam hal ini siswa harus bisa mengukur diri ketika dia membutuhkan sesi tutor tambahan.\n",
    "4. Motivasi siswa berpengaruh terhadap nilai ujian karena motivasi adalah hal yang bisa membangkitkan semangat dan menambah antusiasme dalam pelajaran.\n",
    "5. Siswa harus bisa memilih lingkaran pertemanan karena lingkaran pertemanan dapat memberi pengaruh terhadap diri siswa itu sendiri termasuk pada nilai ujiannya.\n",
    "6. Orang tua dan guru terlibat dalam meningkatkan nilai ujian siswa. Meski orang tua dan guru merupakan faktor dari luar, namun anak usia sekolah sangat tergantung pada orang dewasa yang ada disekitarnya untuk membentuk apa yang ada di dalam dirinya sehingga kehadiran guru dan orang tua sangat krusial untuk meningkatkan nilai ujian siswa."
   ]
  }
 ],
 "metadata": {
  "kernelspec": {
   "display_name": "base",
   "language": "python",
   "name": "python3"
  },
  "language_info": {
   "codemirror_mode": {
    "name": "ipython",
    "version": 3
   },
   "file_extension": ".py",
   "mimetype": "text/x-python",
   "name": "python",
   "nbconvert_exporter": "python",
   "pygments_lexer": "ipython3",
   "version": "3.12.4"
  }
 },
 "nbformat": 4,
 "nbformat_minor": 2
}
